{
  "nbformat": 4,
  "nbformat_minor": 0,
  "metadata": {
    "colab": {
      "provenance": [],
      "authorship_tag": "ABX9TyPtdig5n5lsJzGlgNK5eDxr",
      "include_colab_link": true
    },
    "kernelspec": {
      "name": "python3",
      "display_name": "Python 3"
    },
    "language_info": {
      "name": "python"
    }
  },
  "cells": [
    {
      "cell_type": "markdown",
      "metadata": {
        "id": "view-in-github",
        "colab_type": "text"
      },
      "source": [
        "<a href=\"https://colab.research.google.com/github/mariskaiz/TugasML/blob/main/ML2_Kel_NLP.ipynb\" target=\"_parent\"><img src=\"https://colab.research.google.com/assets/colab-badge.svg\" alt=\"Open In Colab\"/></a>"
      ]
    },
    {
      "cell_type": "code",
      "source": [
        "import pandas as pd\n",
        "import matplotlib.pyplot as plt\n",
        "import plotly.graph_objects as go\n",
        "from tensorflow import keras\n",
        "from keras.models import Sequential\n",
        "from tensorflow.keras.preprocessing.sequence import pad_sequences\n",
        "from tensorflow.keras.preprocessing.text import Tokenizer\n",
        "from keras.callbacks import EarlyStopping, ReduceLROnPlateau\n",
        "from keras.layers import Dense, BatchNormalization, Embedding, LSTM\n",
        "from keras.metrics import Accuracy\n",
        "from keras import utils\n",
        "from keras import callbacks\n",
        "from sklearn.model_selection import train_test_split\n",
        "from absl import logging\n",
        "\n",
        "#ignore notification\n",
        "logging.set_verbosity(logging.ERROR)"
      ],
      "metadata": {
        "id": "NX9VakHfd0KP"
      },
      "execution_count": 19,
      "outputs": []
    },
    {
      "cell_type": "code",
      "source": [
        "# Loading data\n",
        "df = pd.read_csv('/content/SPAM text message 20170820 - Data.csv')\n",
        "df"
      ],
      "metadata": {
        "colab": {
          "base_uri": "https://localhost:8080/",
          "height": 424
        },
        "id": "p5l_f0FZgXkl",
        "outputId": "d5431335-df8f-4b07-c45e-34db6ede3c2a"
      },
      "execution_count": 20,
      "outputs": [
        {
          "output_type": "execute_result",
          "data": {
            "text/plain": [
              "     Category                                            Message\n",
              "0         ham  Go until jurong point, crazy.. Available only ...\n",
              "1         ham                      Ok lar... Joking wif u oni...\n",
              "2        spam  Free entry in 2 a wkly comp to win FA Cup fina...\n",
              "3         ham  U dun say so early hor... U c already then say...\n",
              "4         ham  Nah I don't think he goes to usf, he lives aro...\n",
              "...       ...                                                ...\n",
              "5567     spam  This is the 2nd time we have tried 2 contact u...\n",
              "5568      ham               Will ü b going to esplanade fr home?\n",
              "5569      ham  Pity, * was in mood for that. So...any other s...\n",
              "5570      ham  The guy did some bitching but I acted like i'd...\n",
              "5571      ham                         Rofl. Its true to its name\n",
              "\n",
              "[5572 rows x 2 columns]"
            ],
            "text/html": [
              "\n",
              "  <div id=\"df-0a9ba319-c30f-4d07-a2b2-c6ee7e18872b\" class=\"colab-df-container\">\n",
              "    <div>\n",
              "<style scoped>\n",
              "    .dataframe tbody tr th:only-of-type {\n",
              "        vertical-align: middle;\n",
              "    }\n",
              "\n",
              "    .dataframe tbody tr th {\n",
              "        vertical-align: top;\n",
              "    }\n",
              "\n",
              "    .dataframe thead th {\n",
              "        text-align: right;\n",
              "    }\n",
              "</style>\n",
              "<table border=\"1\" class=\"dataframe\">\n",
              "  <thead>\n",
              "    <tr style=\"text-align: right;\">\n",
              "      <th></th>\n",
              "      <th>Category</th>\n",
              "      <th>Message</th>\n",
              "    </tr>\n",
              "  </thead>\n",
              "  <tbody>\n",
              "    <tr>\n",
              "      <th>0</th>\n",
              "      <td>ham</td>\n",
              "      <td>Go until jurong point, crazy.. Available only ...</td>\n",
              "    </tr>\n",
              "    <tr>\n",
              "      <th>1</th>\n",
              "      <td>ham</td>\n",
              "      <td>Ok lar... Joking wif u oni...</td>\n",
              "    </tr>\n",
              "    <tr>\n",
              "      <th>2</th>\n",
              "      <td>spam</td>\n",
              "      <td>Free entry in 2 a wkly comp to win FA Cup fina...</td>\n",
              "    </tr>\n",
              "    <tr>\n",
              "      <th>3</th>\n",
              "      <td>ham</td>\n",
              "      <td>U dun say so early hor... U c already then say...</td>\n",
              "    </tr>\n",
              "    <tr>\n",
              "      <th>4</th>\n",
              "      <td>ham</td>\n",
              "      <td>Nah I don't think he goes to usf, he lives aro...</td>\n",
              "    </tr>\n",
              "    <tr>\n",
              "      <th>...</th>\n",
              "      <td>...</td>\n",
              "      <td>...</td>\n",
              "    </tr>\n",
              "    <tr>\n",
              "      <th>5567</th>\n",
              "      <td>spam</td>\n",
              "      <td>This is the 2nd time we have tried 2 contact u...</td>\n",
              "    </tr>\n",
              "    <tr>\n",
              "      <th>5568</th>\n",
              "      <td>ham</td>\n",
              "      <td>Will ü b going to esplanade fr home?</td>\n",
              "    </tr>\n",
              "    <tr>\n",
              "      <th>5569</th>\n",
              "      <td>ham</td>\n",
              "      <td>Pity, * was in mood for that. So...any other s...</td>\n",
              "    </tr>\n",
              "    <tr>\n",
              "      <th>5570</th>\n",
              "      <td>ham</td>\n",
              "      <td>The guy did some bitching but I acted like i'd...</td>\n",
              "    </tr>\n",
              "    <tr>\n",
              "      <th>5571</th>\n",
              "      <td>ham</td>\n",
              "      <td>Rofl. Its true to its name</td>\n",
              "    </tr>\n",
              "  </tbody>\n",
              "</table>\n",
              "<p>5572 rows × 2 columns</p>\n",
              "</div>\n",
              "    <div class=\"colab-df-buttons\">\n",
              "\n",
              "  <div class=\"colab-df-container\">\n",
              "    <button class=\"colab-df-convert\" onclick=\"convertToInteractive('df-0a9ba319-c30f-4d07-a2b2-c6ee7e18872b')\"\n",
              "            title=\"Convert this dataframe to an interactive table.\"\n",
              "            style=\"display:none;\">\n",
              "\n",
              "  <svg xmlns=\"http://www.w3.org/2000/svg\" height=\"24px\" viewBox=\"0 -960 960 960\">\n",
              "    <path d=\"M120-120v-720h720v720H120Zm60-500h600v-160H180v160Zm220 220h160v-160H400v160Zm0 220h160v-160H400v160ZM180-400h160v-160H180v160Zm440 0h160v-160H620v160ZM180-180h160v-160H180v160Zm440 0h160v-160H620v160Z\"/>\n",
              "  </svg>\n",
              "    </button>\n",
              "\n",
              "  <style>\n",
              "    .colab-df-container {\n",
              "      display:flex;\n",
              "      gap: 12px;\n",
              "    }\n",
              "\n",
              "    .colab-df-convert {\n",
              "      background-color: #E8F0FE;\n",
              "      border: none;\n",
              "      border-radius: 50%;\n",
              "      cursor: pointer;\n",
              "      display: none;\n",
              "      fill: #1967D2;\n",
              "      height: 32px;\n",
              "      padding: 0 0 0 0;\n",
              "      width: 32px;\n",
              "    }\n",
              "\n",
              "    .colab-df-convert:hover {\n",
              "      background-color: #E2EBFA;\n",
              "      box-shadow: 0px 1px 2px rgba(60, 64, 67, 0.3), 0px 1px 3px 1px rgba(60, 64, 67, 0.15);\n",
              "      fill: #174EA6;\n",
              "    }\n",
              "\n",
              "    .colab-df-buttons div {\n",
              "      margin-bottom: 4px;\n",
              "    }\n",
              "\n",
              "    [theme=dark] .colab-df-convert {\n",
              "      background-color: #3B4455;\n",
              "      fill: #D2E3FC;\n",
              "    }\n",
              "\n",
              "    [theme=dark] .colab-df-convert:hover {\n",
              "      background-color: #434B5C;\n",
              "      box-shadow: 0px 1px 3px 1px rgba(0, 0, 0, 0.15);\n",
              "      filter: drop-shadow(0px 1px 2px rgba(0, 0, 0, 0.3));\n",
              "      fill: #FFFFFF;\n",
              "    }\n",
              "  </style>\n",
              "\n",
              "    <script>\n",
              "      const buttonEl =\n",
              "        document.querySelector('#df-0a9ba319-c30f-4d07-a2b2-c6ee7e18872b button.colab-df-convert');\n",
              "      buttonEl.style.display =\n",
              "        google.colab.kernel.accessAllowed ? 'block' : 'none';\n",
              "\n",
              "      async function convertToInteractive(key) {\n",
              "        const element = document.querySelector('#df-0a9ba319-c30f-4d07-a2b2-c6ee7e18872b');\n",
              "        const dataTable =\n",
              "          await google.colab.kernel.invokeFunction('convertToInteractive',\n",
              "                                                    [key], {});\n",
              "        if (!dataTable) return;\n",
              "\n",
              "        const docLinkHtml = 'Like what you see? Visit the ' +\n",
              "          '<a target=\"_blank\" href=https://colab.research.google.com/notebooks/data_table.ipynb>data table notebook</a>'\n",
              "          + ' to learn more about interactive tables.';\n",
              "        element.innerHTML = '';\n",
              "        dataTable['output_type'] = 'display_data';\n",
              "        await google.colab.output.renderOutput(dataTable, element);\n",
              "        const docLink = document.createElement('div');\n",
              "        docLink.innerHTML = docLinkHtml;\n",
              "        element.appendChild(docLink);\n",
              "      }\n",
              "    </script>\n",
              "  </div>\n",
              "\n",
              "\n",
              "<div id=\"df-81bf14e2-f855-48d7-971a-6539ff804a5f\">\n",
              "  <button class=\"colab-df-quickchart\" onclick=\"quickchart('df-81bf14e2-f855-48d7-971a-6539ff804a5f')\"\n",
              "            title=\"Suggest charts\"\n",
              "            style=\"display:none;\">\n",
              "\n",
              "<svg xmlns=\"http://www.w3.org/2000/svg\" height=\"24px\"viewBox=\"0 0 24 24\"\n",
              "     width=\"24px\">\n",
              "    <g>\n",
              "        <path d=\"M19 3H5c-1.1 0-2 .9-2 2v14c0 1.1.9 2 2 2h14c1.1 0 2-.9 2-2V5c0-1.1-.9-2-2-2zM9 17H7v-7h2v7zm4 0h-2V7h2v10zm4 0h-2v-4h2v4z\"/>\n",
              "    </g>\n",
              "</svg>\n",
              "  </button>\n",
              "\n",
              "<style>\n",
              "  .colab-df-quickchart {\n",
              "      --bg-color: #E8F0FE;\n",
              "      --fill-color: #1967D2;\n",
              "      --hover-bg-color: #E2EBFA;\n",
              "      --hover-fill-color: #174EA6;\n",
              "      --disabled-fill-color: #AAA;\n",
              "      --disabled-bg-color: #DDD;\n",
              "  }\n",
              "\n",
              "  [theme=dark] .colab-df-quickchart {\n",
              "      --bg-color: #3B4455;\n",
              "      --fill-color: #D2E3FC;\n",
              "      --hover-bg-color: #434B5C;\n",
              "      --hover-fill-color: #FFFFFF;\n",
              "      --disabled-bg-color: #3B4455;\n",
              "      --disabled-fill-color: #666;\n",
              "  }\n",
              "\n",
              "  .colab-df-quickchart {\n",
              "    background-color: var(--bg-color);\n",
              "    border: none;\n",
              "    border-radius: 50%;\n",
              "    cursor: pointer;\n",
              "    display: none;\n",
              "    fill: var(--fill-color);\n",
              "    height: 32px;\n",
              "    padding: 0;\n",
              "    width: 32px;\n",
              "  }\n",
              "\n",
              "  .colab-df-quickchart:hover {\n",
              "    background-color: var(--hover-bg-color);\n",
              "    box-shadow: 0 1px 2px rgba(60, 64, 67, 0.3), 0 1px 3px 1px rgba(60, 64, 67, 0.15);\n",
              "    fill: var(--button-hover-fill-color);\n",
              "  }\n",
              "\n",
              "  .colab-df-quickchart-complete:disabled,\n",
              "  .colab-df-quickchart-complete:disabled:hover {\n",
              "    background-color: var(--disabled-bg-color);\n",
              "    fill: var(--disabled-fill-color);\n",
              "    box-shadow: none;\n",
              "  }\n",
              "\n",
              "  .colab-df-spinner {\n",
              "    border: 2px solid var(--fill-color);\n",
              "    border-color: transparent;\n",
              "    border-bottom-color: var(--fill-color);\n",
              "    animation:\n",
              "      spin 1s steps(1) infinite;\n",
              "  }\n",
              "\n",
              "  @keyframes spin {\n",
              "    0% {\n",
              "      border-color: transparent;\n",
              "      border-bottom-color: var(--fill-color);\n",
              "      border-left-color: var(--fill-color);\n",
              "    }\n",
              "    20% {\n",
              "      border-color: transparent;\n",
              "      border-left-color: var(--fill-color);\n",
              "      border-top-color: var(--fill-color);\n",
              "    }\n",
              "    30% {\n",
              "      border-color: transparent;\n",
              "      border-left-color: var(--fill-color);\n",
              "      border-top-color: var(--fill-color);\n",
              "      border-right-color: var(--fill-color);\n",
              "    }\n",
              "    40% {\n",
              "      border-color: transparent;\n",
              "      border-right-color: var(--fill-color);\n",
              "      border-top-color: var(--fill-color);\n",
              "    }\n",
              "    60% {\n",
              "      border-color: transparent;\n",
              "      border-right-color: var(--fill-color);\n",
              "    }\n",
              "    80% {\n",
              "      border-color: transparent;\n",
              "      border-right-color: var(--fill-color);\n",
              "      border-bottom-color: var(--fill-color);\n",
              "    }\n",
              "    90% {\n",
              "      border-color: transparent;\n",
              "      border-bottom-color: var(--fill-color);\n",
              "    }\n",
              "  }\n",
              "</style>\n",
              "\n",
              "  <script>\n",
              "    async function quickchart(key) {\n",
              "      const quickchartButtonEl =\n",
              "        document.querySelector('#' + key + ' button');\n",
              "      quickchartButtonEl.disabled = true;  // To prevent multiple clicks.\n",
              "      quickchartButtonEl.classList.add('colab-df-spinner');\n",
              "      try {\n",
              "        const charts = await google.colab.kernel.invokeFunction(\n",
              "            'suggestCharts', [key], {});\n",
              "      } catch (error) {\n",
              "        console.error('Error during call to suggestCharts:', error);\n",
              "      }\n",
              "      quickchartButtonEl.classList.remove('colab-df-spinner');\n",
              "      quickchartButtonEl.classList.add('colab-df-quickchart-complete');\n",
              "    }\n",
              "    (() => {\n",
              "      let quickchartButtonEl =\n",
              "        document.querySelector('#df-81bf14e2-f855-48d7-971a-6539ff804a5f button');\n",
              "      quickchartButtonEl.style.display =\n",
              "        google.colab.kernel.accessAllowed ? 'block' : 'none';\n",
              "    })();\n",
              "  </script>\n",
              "</div>\n",
              "    </div>\n",
              "  </div>\n"
            ],
            "application/vnd.google.colaboratory.intrinsic+json": {
              "type": "dataframe",
              "variable_name": "df",
              "summary": "{\n  \"name\": \"df\",\n  \"rows\": 5572,\n  \"fields\": [\n    {\n      \"column\": \"Category\",\n      \"properties\": {\n        \"dtype\": \"category\",\n        \"num_unique_values\": 2,\n        \"samples\": [\n          \"spam\",\n          \"ham\"\n        ],\n        \"semantic_type\": \"\",\n        \"description\": \"\"\n      }\n    },\n    {\n      \"column\": \"Message\",\n      \"properties\": {\n        \"dtype\": \"string\",\n        \"num_unique_values\": 5157,\n        \"samples\": [\n          \"Also sir, i sent you an email about how to log into the usc payment portal. I.ll send you another message that should explain how things are back home. Have a great weekend.\",\n          \"Are you free now?can i call now?\"\n        ],\n        \"semantic_type\": \"\",\n        \"description\": \"\"\n      }\n    }\n  ]\n}"
            }
          },
          "metadata": {},
          "execution_count": 20
        }
      ]
    },
    {
      "cell_type": "code",
      "source": [
        "#pemrosesan label objek menjadi biner\n",
        "print(f'Number of objects in the dataset: {df.shape[0]}')\n",
        "\n",
        "label_type = list(df['Category'].unique())\n",
        "print(f'Types of labels in the dataset: {label_type}')\n",
        "\n",
        "# ham: 0 , spam : 1\n",
        "df.replace('ham', 0, inplace=True)\n",
        "df.replace('spam', 1, inplace=True)\n",
        "df['Category'] = df['Category'].astype('int8')"
      ],
      "metadata": {
        "colab": {
          "base_uri": "https://localhost:8080/"
        },
        "id": "w5RlgDnWg0uJ",
        "outputId": "dd6f9298-4a72-4b38-e34d-02addc454baf"
      },
      "execution_count": 21,
      "outputs": [
        {
          "output_type": "stream",
          "name": "stdout",
          "text": [
            "Number of objects in the dataset: 5572\n",
            "Types of labels in the dataset: ['ham', 'spam']\n"
          ]
        }
      ]
    },
    {
      "cell_type": "code",
      "source": [
        "df"
      ],
      "metadata": {
        "colab": {
          "base_uri": "https://localhost:8080/",
          "height": 424
        },
        "id": "TZalquKwg_D0",
        "outputId": "d15f65b1-5b05-49b1-b4aa-b8ee816f6e55"
      },
      "execution_count": 22,
      "outputs": [
        {
          "output_type": "execute_result",
          "data": {
            "text/plain": [
              "      Category                                            Message\n",
              "0            0  Go until jurong point, crazy.. Available only ...\n",
              "1            0                      Ok lar... Joking wif u oni...\n",
              "2            1  Free entry in 2 a wkly comp to win FA Cup fina...\n",
              "3            0  U dun say so early hor... U c already then say...\n",
              "4            0  Nah I don't think he goes to usf, he lives aro...\n",
              "...        ...                                                ...\n",
              "5567         1  This is the 2nd time we have tried 2 contact u...\n",
              "5568         0               Will ü b going to esplanade fr home?\n",
              "5569         0  Pity, * was in mood for that. So...any other s...\n",
              "5570         0  The guy did some bitching but I acted like i'd...\n",
              "5571         0                         Rofl. Its true to its name\n",
              "\n",
              "[5572 rows x 2 columns]"
            ],
            "text/html": [
              "\n",
              "  <div id=\"df-1fccf6ab-e07a-49a1-9145-da85e38ba723\" class=\"colab-df-container\">\n",
              "    <div>\n",
              "<style scoped>\n",
              "    .dataframe tbody tr th:only-of-type {\n",
              "        vertical-align: middle;\n",
              "    }\n",
              "\n",
              "    .dataframe tbody tr th {\n",
              "        vertical-align: top;\n",
              "    }\n",
              "\n",
              "    .dataframe thead th {\n",
              "        text-align: right;\n",
              "    }\n",
              "</style>\n",
              "<table border=\"1\" class=\"dataframe\">\n",
              "  <thead>\n",
              "    <tr style=\"text-align: right;\">\n",
              "      <th></th>\n",
              "      <th>Category</th>\n",
              "      <th>Message</th>\n",
              "    </tr>\n",
              "  </thead>\n",
              "  <tbody>\n",
              "    <tr>\n",
              "      <th>0</th>\n",
              "      <td>0</td>\n",
              "      <td>Go until jurong point, crazy.. Available only ...</td>\n",
              "    </tr>\n",
              "    <tr>\n",
              "      <th>1</th>\n",
              "      <td>0</td>\n",
              "      <td>Ok lar... Joking wif u oni...</td>\n",
              "    </tr>\n",
              "    <tr>\n",
              "      <th>2</th>\n",
              "      <td>1</td>\n",
              "      <td>Free entry in 2 a wkly comp to win FA Cup fina...</td>\n",
              "    </tr>\n",
              "    <tr>\n",
              "      <th>3</th>\n",
              "      <td>0</td>\n",
              "      <td>U dun say so early hor... U c already then say...</td>\n",
              "    </tr>\n",
              "    <tr>\n",
              "      <th>4</th>\n",
              "      <td>0</td>\n",
              "      <td>Nah I don't think he goes to usf, he lives aro...</td>\n",
              "    </tr>\n",
              "    <tr>\n",
              "      <th>...</th>\n",
              "      <td>...</td>\n",
              "      <td>...</td>\n",
              "    </tr>\n",
              "    <tr>\n",
              "      <th>5567</th>\n",
              "      <td>1</td>\n",
              "      <td>This is the 2nd time we have tried 2 contact u...</td>\n",
              "    </tr>\n",
              "    <tr>\n",
              "      <th>5568</th>\n",
              "      <td>0</td>\n",
              "      <td>Will ü b going to esplanade fr home?</td>\n",
              "    </tr>\n",
              "    <tr>\n",
              "      <th>5569</th>\n",
              "      <td>0</td>\n",
              "      <td>Pity, * was in mood for that. So...any other s...</td>\n",
              "    </tr>\n",
              "    <tr>\n",
              "      <th>5570</th>\n",
              "      <td>0</td>\n",
              "      <td>The guy did some bitching but I acted like i'd...</td>\n",
              "    </tr>\n",
              "    <tr>\n",
              "      <th>5571</th>\n",
              "      <td>0</td>\n",
              "      <td>Rofl. Its true to its name</td>\n",
              "    </tr>\n",
              "  </tbody>\n",
              "</table>\n",
              "<p>5572 rows × 2 columns</p>\n",
              "</div>\n",
              "    <div class=\"colab-df-buttons\">\n",
              "\n",
              "  <div class=\"colab-df-container\">\n",
              "    <button class=\"colab-df-convert\" onclick=\"convertToInteractive('df-1fccf6ab-e07a-49a1-9145-da85e38ba723')\"\n",
              "            title=\"Convert this dataframe to an interactive table.\"\n",
              "            style=\"display:none;\">\n",
              "\n",
              "  <svg xmlns=\"http://www.w3.org/2000/svg\" height=\"24px\" viewBox=\"0 -960 960 960\">\n",
              "    <path d=\"M120-120v-720h720v720H120Zm60-500h600v-160H180v160Zm220 220h160v-160H400v160Zm0 220h160v-160H400v160ZM180-400h160v-160H180v160Zm440 0h160v-160H620v160ZM180-180h160v-160H180v160Zm440 0h160v-160H620v160Z\"/>\n",
              "  </svg>\n",
              "    </button>\n",
              "\n",
              "  <style>\n",
              "    .colab-df-container {\n",
              "      display:flex;\n",
              "      gap: 12px;\n",
              "    }\n",
              "\n",
              "    .colab-df-convert {\n",
              "      background-color: #E8F0FE;\n",
              "      border: none;\n",
              "      border-radius: 50%;\n",
              "      cursor: pointer;\n",
              "      display: none;\n",
              "      fill: #1967D2;\n",
              "      height: 32px;\n",
              "      padding: 0 0 0 0;\n",
              "      width: 32px;\n",
              "    }\n",
              "\n",
              "    .colab-df-convert:hover {\n",
              "      background-color: #E2EBFA;\n",
              "      box-shadow: 0px 1px 2px rgba(60, 64, 67, 0.3), 0px 1px 3px 1px rgba(60, 64, 67, 0.15);\n",
              "      fill: #174EA6;\n",
              "    }\n",
              "\n",
              "    .colab-df-buttons div {\n",
              "      margin-bottom: 4px;\n",
              "    }\n",
              "\n",
              "    [theme=dark] .colab-df-convert {\n",
              "      background-color: #3B4455;\n",
              "      fill: #D2E3FC;\n",
              "    }\n",
              "\n",
              "    [theme=dark] .colab-df-convert:hover {\n",
              "      background-color: #434B5C;\n",
              "      box-shadow: 0px 1px 3px 1px rgba(0, 0, 0, 0.15);\n",
              "      filter: drop-shadow(0px 1px 2px rgba(0, 0, 0, 0.3));\n",
              "      fill: #FFFFFF;\n",
              "    }\n",
              "  </style>\n",
              "\n",
              "    <script>\n",
              "      const buttonEl =\n",
              "        document.querySelector('#df-1fccf6ab-e07a-49a1-9145-da85e38ba723 button.colab-df-convert');\n",
              "      buttonEl.style.display =\n",
              "        google.colab.kernel.accessAllowed ? 'block' : 'none';\n",
              "\n",
              "      async function convertToInteractive(key) {\n",
              "        const element = document.querySelector('#df-1fccf6ab-e07a-49a1-9145-da85e38ba723');\n",
              "        const dataTable =\n",
              "          await google.colab.kernel.invokeFunction('convertToInteractive',\n",
              "                                                    [key], {});\n",
              "        if (!dataTable) return;\n",
              "\n",
              "        const docLinkHtml = 'Like what you see? Visit the ' +\n",
              "          '<a target=\"_blank\" href=https://colab.research.google.com/notebooks/data_table.ipynb>data table notebook</a>'\n",
              "          + ' to learn more about interactive tables.';\n",
              "        element.innerHTML = '';\n",
              "        dataTable['output_type'] = 'display_data';\n",
              "        await google.colab.output.renderOutput(dataTable, element);\n",
              "        const docLink = document.createElement('div');\n",
              "        docLink.innerHTML = docLinkHtml;\n",
              "        element.appendChild(docLink);\n",
              "      }\n",
              "    </script>\n",
              "  </div>\n",
              "\n",
              "\n",
              "<div id=\"df-03d1976d-f972-43ea-a883-9b28eebba180\">\n",
              "  <button class=\"colab-df-quickchart\" onclick=\"quickchart('df-03d1976d-f972-43ea-a883-9b28eebba180')\"\n",
              "            title=\"Suggest charts\"\n",
              "            style=\"display:none;\">\n",
              "\n",
              "<svg xmlns=\"http://www.w3.org/2000/svg\" height=\"24px\"viewBox=\"0 0 24 24\"\n",
              "     width=\"24px\">\n",
              "    <g>\n",
              "        <path d=\"M19 3H5c-1.1 0-2 .9-2 2v14c0 1.1.9 2 2 2h14c1.1 0 2-.9 2-2V5c0-1.1-.9-2-2-2zM9 17H7v-7h2v7zm4 0h-2V7h2v10zm4 0h-2v-4h2v4z\"/>\n",
              "    </g>\n",
              "</svg>\n",
              "  </button>\n",
              "\n",
              "<style>\n",
              "  .colab-df-quickchart {\n",
              "      --bg-color: #E8F0FE;\n",
              "      --fill-color: #1967D2;\n",
              "      --hover-bg-color: #E2EBFA;\n",
              "      --hover-fill-color: #174EA6;\n",
              "      --disabled-fill-color: #AAA;\n",
              "      --disabled-bg-color: #DDD;\n",
              "  }\n",
              "\n",
              "  [theme=dark] .colab-df-quickchart {\n",
              "      --bg-color: #3B4455;\n",
              "      --fill-color: #D2E3FC;\n",
              "      --hover-bg-color: #434B5C;\n",
              "      --hover-fill-color: #FFFFFF;\n",
              "      --disabled-bg-color: #3B4455;\n",
              "      --disabled-fill-color: #666;\n",
              "  }\n",
              "\n",
              "  .colab-df-quickchart {\n",
              "    background-color: var(--bg-color);\n",
              "    border: none;\n",
              "    border-radius: 50%;\n",
              "    cursor: pointer;\n",
              "    display: none;\n",
              "    fill: var(--fill-color);\n",
              "    height: 32px;\n",
              "    padding: 0;\n",
              "    width: 32px;\n",
              "  }\n",
              "\n",
              "  .colab-df-quickchart:hover {\n",
              "    background-color: var(--hover-bg-color);\n",
              "    box-shadow: 0 1px 2px rgba(60, 64, 67, 0.3), 0 1px 3px 1px rgba(60, 64, 67, 0.15);\n",
              "    fill: var(--button-hover-fill-color);\n",
              "  }\n",
              "\n",
              "  .colab-df-quickchart-complete:disabled,\n",
              "  .colab-df-quickchart-complete:disabled:hover {\n",
              "    background-color: var(--disabled-bg-color);\n",
              "    fill: var(--disabled-fill-color);\n",
              "    box-shadow: none;\n",
              "  }\n",
              "\n",
              "  .colab-df-spinner {\n",
              "    border: 2px solid var(--fill-color);\n",
              "    border-color: transparent;\n",
              "    border-bottom-color: var(--fill-color);\n",
              "    animation:\n",
              "      spin 1s steps(1) infinite;\n",
              "  }\n",
              "\n",
              "  @keyframes spin {\n",
              "    0% {\n",
              "      border-color: transparent;\n",
              "      border-bottom-color: var(--fill-color);\n",
              "      border-left-color: var(--fill-color);\n",
              "    }\n",
              "    20% {\n",
              "      border-color: transparent;\n",
              "      border-left-color: var(--fill-color);\n",
              "      border-top-color: var(--fill-color);\n",
              "    }\n",
              "    30% {\n",
              "      border-color: transparent;\n",
              "      border-left-color: var(--fill-color);\n",
              "      border-top-color: var(--fill-color);\n",
              "      border-right-color: var(--fill-color);\n",
              "    }\n",
              "    40% {\n",
              "      border-color: transparent;\n",
              "      border-right-color: var(--fill-color);\n",
              "      border-top-color: var(--fill-color);\n",
              "    }\n",
              "    60% {\n",
              "      border-color: transparent;\n",
              "      border-right-color: var(--fill-color);\n",
              "    }\n",
              "    80% {\n",
              "      border-color: transparent;\n",
              "      border-right-color: var(--fill-color);\n",
              "      border-bottom-color: var(--fill-color);\n",
              "    }\n",
              "    90% {\n",
              "      border-color: transparent;\n",
              "      border-bottom-color: var(--fill-color);\n",
              "    }\n",
              "  }\n",
              "</style>\n",
              "\n",
              "  <script>\n",
              "    async function quickchart(key) {\n",
              "      const quickchartButtonEl =\n",
              "        document.querySelector('#' + key + ' button');\n",
              "      quickchartButtonEl.disabled = true;  // To prevent multiple clicks.\n",
              "      quickchartButtonEl.classList.add('colab-df-spinner');\n",
              "      try {\n",
              "        const charts = await google.colab.kernel.invokeFunction(\n",
              "            'suggestCharts', [key], {});\n",
              "      } catch (error) {\n",
              "        console.error('Error during call to suggestCharts:', error);\n",
              "      }\n",
              "      quickchartButtonEl.classList.remove('colab-df-spinner');\n",
              "      quickchartButtonEl.classList.add('colab-df-quickchart-complete');\n",
              "    }\n",
              "    (() => {\n",
              "      let quickchartButtonEl =\n",
              "        document.querySelector('#df-03d1976d-f972-43ea-a883-9b28eebba180 button');\n",
              "      quickchartButtonEl.style.display =\n",
              "        google.colab.kernel.accessAllowed ? 'block' : 'none';\n",
              "    })();\n",
              "  </script>\n",
              "</div>\n",
              "    </div>\n",
              "  </div>\n"
            ],
            "application/vnd.google.colaboratory.intrinsic+json": {
              "type": "dataframe",
              "variable_name": "df",
              "summary": "{\n  \"name\": \"df\",\n  \"rows\": 5572,\n  \"fields\": [\n    {\n      \"column\": \"Category\",\n      \"properties\": {\n        \"dtype\": \"int8\",\n        \"num_unique_values\": 2,\n        \"samples\": [\n          1,\n          0\n        ],\n        \"semantic_type\": \"\",\n        \"description\": \"\"\n      }\n    },\n    {\n      \"column\": \"Message\",\n      \"properties\": {\n        \"dtype\": \"string\",\n        \"num_unique_values\": 5157,\n        \"samples\": [\n          \"Also sir, i sent you an email about how to log into the usc payment portal. I.ll send you another message that should explain how things are back home. Have a great weekend.\",\n          \"Are you free now?can i call now?\"\n        ],\n        \"semantic_type\": \"\",\n        \"description\": \"\"\n      }\n    }\n  ]\n}"
            }
          },
          "metadata": {},
          "execution_count": 22
        }
      ]
    },
    {
      "cell_type": "code",
      "source": [
        "#visualisasi jumlah ham dan spam\n",
        "groups = df.groupby(by='Category').count().Message\n",
        "CNT_HAM = groups[0]\n",
        "CNT_SPAM = groups[1]\n",
        "fig = go.Figure()\n",
        "fig.add_trace(go.Bar(\n",
        "    x=['Ham', 'Spam'],\n",
        "    y=[CNT_HAM, CNT_SPAM],\n",
        "    marker_color='indianred',\n",
        "    width=[0.4, 0.4]))\n",
        "\n",
        "fig.update_layout(title='Classes and their number in the dataset', title_x=0.5)"
      ],
      "metadata": {
        "colab": {
          "base_uri": "https://localhost:8080/",
          "height": 542
        },
        "id": "ya8rEMjzheo1",
        "outputId": "5dc8cfad-37c3-40b1-f607-b660f05f5540"
      },
      "execution_count": 23,
      "outputs": [
        {
          "output_type": "display_data",
          "data": {
            "text/html": [
              "<html>\n",
              "<head><meta charset=\"utf-8\" /></head>\n",
              "<body>\n",
              "    <div>            <script src=\"https://cdnjs.cloudflare.com/ajax/libs/mathjax/2.7.5/MathJax.js?config=TeX-AMS-MML_SVG\"></script><script type=\"text/javascript\">if (window.MathJax && window.MathJax.Hub && window.MathJax.Hub.Config) {window.MathJax.Hub.Config({SVG: {font: \"STIX-Web\"}});}</script>                <script type=\"text/javascript\">window.PlotlyConfig = {MathJaxConfig: 'local'};</script>\n",
              "        <script charset=\"utf-8\" src=\"https://cdn.plot.ly/plotly-2.24.1.min.js\"></script>                <div id=\"01e917ac-a9b6-413c-8d8e-8f0fdc7b30c5\" class=\"plotly-graph-div\" style=\"height:525px; width:100%;\"></div>            <script type=\"text/javascript\">                                    window.PLOTLYENV=window.PLOTLYENV || {};                                    if (document.getElementById(\"01e917ac-a9b6-413c-8d8e-8f0fdc7b30c5\")) {                    Plotly.newPlot(                        \"01e917ac-a9b6-413c-8d8e-8f0fdc7b30c5\",                        [{\"marker\":{\"color\":\"indianred\"},\"width\":[0.4,0.4],\"x\":[\"Ham\",\"Spam\"],\"y\":[4825,747],\"type\":\"bar\"}],                        {\"template\":{\"data\":{\"histogram2dcontour\":[{\"type\":\"histogram2dcontour\",\"colorbar\":{\"outlinewidth\":0,\"ticks\":\"\"},\"colorscale\":[[0.0,\"#0d0887\"],[0.1111111111111111,\"#46039f\"],[0.2222222222222222,\"#7201a8\"],[0.3333333333333333,\"#9c179e\"],[0.4444444444444444,\"#bd3786\"],[0.5555555555555556,\"#d8576b\"],[0.6666666666666666,\"#ed7953\"],[0.7777777777777778,\"#fb9f3a\"],[0.8888888888888888,\"#fdca26\"],[1.0,\"#f0f921\"]]}],\"choropleth\":[{\"type\":\"choropleth\",\"colorbar\":{\"outlinewidth\":0,\"ticks\":\"\"}}],\"histogram2d\":[{\"type\":\"histogram2d\",\"colorbar\":{\"outlinewidth\":0,\"ticks\":\"\"},\"colorscale\":[[0.0,\"#0d0887\"],[0.1111111111111111,\"#46039f\"],[0.2222222222222222,\"#7201a8\"],[0.3333333333333333,\"#9c179e\"],[0.4444444444444444,\"#bd3786\"],[0.5555555555555556,\"#d8576b\"],[0.6666666666666666,\"#ed7953\"],[0.7777777777777778,\"#fb9f3a\"],[0.8888888888888888,\"#fdca26\"],[1.0,\"#f0f921\"]]}],\"heatmap\":[{\"type\":\"heatmap\",\"colorbar\":{\"outlinewidth\":0,\"ticks\":\"\"},\"colorscale\":[[0.0,\"#0d0887\"],[0.1111111111111111,\"#46039f\"],[0.2222222222222222,\"#7201a8\"],[0.3333333333333333,\"#9c179e\"],[0.4444444444444444,\"#bd3786\"],[0.5555555555555556,\"#d8576b\"],[0.6666666666666666,\"#ed7953\"],[0.7777777777777778,\"#fb9f3a\"],[0.8888888888888888,\"#fdca26\"],[1.0,\"#f0f921\"]]}],\"heatmapgl\":[{\"type\":\"heatmapgl\",\"colorbar\":{\"outlinewidth\":0,\"ticks\":\"\"},\"colorscale\":[[0.0,\"#0d0887\"],[0.1111111111111111,\"#46039f\"],[0.2222222222222222,\"#7201a8\"],[0.3333333333333333,\"#9c179e\"],[0.4444444444444444,\"#bd3786\"],[0.5555555555555556,\"#d8576b\"],[0.6666666666666666,\"#ed7953\"],[0.7777777777777778,\"#fb9f3a\"],[0.8888888888888888,\"#fdca26\"],[1.0,\"#f0f921\"]]}],\"contourcarpet\":[{\"type\":\"contourcarpet\",\"colorbar\":{\"outlinewidth\":0,\"ticks\":\"\"}}],\"contour\":[{\"type\":\"contour\",\"colorbar\":{\"outlinewidth\":0,\"ticks\":\"\"},\"colorscale\":[[0.0,\"#0d0887\"],[0.1111111111111111,\"#46039f\"],[0.2222222222222222,\"#7201a8\"],[0.3333333333333333,\"#9c179e\"],[0.4444444444444444,\"#bd3786\"],[0.5555555555555556,\"#d8576b\"],[0.6666666666666666,\"#ed7953\"],[0.7777777777777778,\"#fb9f3a\"],[0.8888888888888888,\"#fdca26\"],[1.0,\"#f0f921\"]]}],\"surface\":[{\"type\":\"surface\",\"colorbar\":{\"outlinewidth\":0,\"ticks\":\"\"},\"colorscale\":[[0.0,\"#0d0887\"],[0.1111111111111111,\"#46039f\"],[0.2222222222222222,\"#7201a8\"],[0.3333333333333333,\"#9c179e\"],[0.4444444444444444,\"#bd3786\"],[0.5555555555555556,\"#d8576b\"],[0.6666666666666666,\"#ed7953\"],[0.7777777777777778,\"#fb9f3a\"],[0.8888888888888888,\"#fdca26\"],[1.0,\"#f0f921\"]]}],\"mesh3d\":[{\"type\":\"mesh3d\",\"colorbar\":{\"outlinewidth\":0,\"ticks\":\"\"}}],\"scatter\":[{\"fillpattern\":{\"fillmode\":\"overlay\",\"size\":10,\"solidity\":0.2},\"type\":\"scatter\"}],\"parcoords\":[{\"type\":\"parcoords\",\"line\":{\"colorbar\":{\"outlinewidth\":0,\"ticks\":\"\"}}}],\"scatterpolargl\":[{\"type\":\"scatterpolargl\",\"marker\":{\"colorbar\":{\"outlinewidth\":0,\"ticks\":\"\"}}}],\"bar\":[{\"error_x\":{\"color\":\"#2a3f5f\"},\"error_y\":{\"color\":\"#2a3f5f\"},\"marker\":{\"line\":{\"color\":\"#E5ECF6\",\"width\":0.5},\"pattern\":{\"fillmode\":\"overlay\",\"size\":10,\"solidity\":0.2}},\"type\":\"bar\"}],\"scattergeo\":[{\"type\":\"scattergeo\",\"marker\":{\"colorbar\":{\"outlinewidth\":0,\"ticks\":\"\"}}}],\"scatterpolar\":[{\"type\":\"scatterpolar\",\"marker\":{\"colorbar\":{\"outlinewidth\":0,\"ticks\":\"\"}}}],\"histogram\":[{\"marker\":{\"pattern\":{\"fillmode\":\"overlay\",\"size\":10,\"solidity\":0.2}},\"type\":\"histogram\"}],\"scattergl\":[{\"type\":\"scattergl\",\"marker\":{\"colorbar\":{\"outlinewidth\":0,\"ticks\":\"\"}}}],\"scatter3d\":[{\"type\":\"scatter3d\",\"line\":{\"colorbar\":{\"outlinewidth\":0,\"ticks\":\"\"}},\"marker\":{\"colorbar\":{\"outlinewidth\":0,\"ticks\":\"\"}}}],\"scattermapbox\":[{\"type\":\"scattermapbox\",\"marker\":{\"colorbar\":{\"outlinewidth\":0,\"ticks\":\"\"}}}],\"scatterternary\":[{\"type\":\"scatterternary\",\"marker\":{\"colorbar\":{\"outlinewidth\":0,\"ticks\":\"\"}}}],\"scattercarpet\":[{\"type\":\"scattercarpet\",\"marker\":{\"colorbar\":{\"outlinewidth\":0,\"ticks\":\"\"}}}],\"carpet\":[{\"aaxis\":{\"endlinecolor\":\"#2a3f5f\",\"gridcolor\":\"white\",\"linecolor\":\"white\",\"minorgridcolor\":\"white\",\"startlinecolor\":\"#2a3f5f\"},\"baxis\":{\"endlinecolor\":\"#2a3f5f\",\"gridcolor\":\"white\",\"linecolor\":\"white\",\"minorgridcolor\":\"white\",\"startlinecolor\":\"#2a3f5f\"},\"type\":\"carpet\"}],\"table\":[{\"cells\":{\"fill\":{\"color\":\"#EBF0F8\"},\"line\":{\"color\":\"white\"}},\"header\":{\"fill\":{\"color\":\"#C8D4E3\"},\"line\":{\"color\":\"white\"}},\"type\":\"table\"}],\"barpolar\":[{\"marker\":{\"line\":{\"color\":\"#E5ECF6\",\"width\":0.5},\"pattern\":{\"fillmode\":\"overlay\",\"size\":10,\"solidity\":0.2}},\"type\":\"barpolar\"}],\"pie\":[{\"automargin\":true,\"type\":\"pie\"}]},\"layout\":{\"autotypenumbers\":\"strict\",\"colorway\":[\"#636efa\",\"#EF553B\",\"#00cc96\",\"#ab63fa\",\"#FFA15A\",\"#19d3f3\",\"#FF6692\",\"#B6E880\",\"#FF97FF\",\"#FECB52\"],\"font\":{\"color\":\"#2a3f5f\"},\"hovermode\":\"closest\",\"hoverlabel\":{\"align\":\"left\"},\"paper_bgcolor\":\"white\",\"plot_bgcolor\":\"#E5ECF6\",\"polar\":{\"bgcolor\":\"#E5ECF6\",\"angularaxis\":{\"gridcolor\":\"white\",\"linecolor\":\"white\",\"ticks\":\"\"},\"radialaxis\":{\"gridcolor\":\"white\",\"linecolor\":\"white\",\"ticks\":\"\"}},\"ternary\":{\"bgcolor\":\"#E5ECF6\",\"aaxis\":{\"gridcolor\":\"white\",\"linecolor\":\"white\",\"ticks\":\"\"},\"baxis\":{\"gridcolor\":\"white\",\"linecolor\":\"white\",\"ticks\":\"\"},\"caxis\":{\"gridcolor\":\"white\",\"linecolor\":\"white\",\"ticks\":\"\"}},\"coloraxis\":{\"colorbar\":{\"outlinewidth\":0,\"ticks\":\"\"}},\"colorscale\":{\"sequential\":[[0.0,\"#0d0887\"],[0.1111111111111111,\"#46039f\"],[0.2222222222222222,\"#7201a8\"],[0.3333333333333333,\"#9c179e\"],[0.4444444444444444,\"#bd3786\"],[0.5555555555555556,\"#d8576b\"],[0.6666666666666666,\"#ed7953\"],[0.7777777777777778,\"#fb9f3a\"],[0.8888888888888888,\"#fdca26\"],[1.0,\"#f0f921\"]],\"sequentialminus\":[[0.0,\"#0d0887\"],[0.1111111111111111,\"#46039f\"],[0.2222222222222222,\"#7201a8\"],[0.3333333333333333,\"#9c179e\"],[0.4444444444444444,\"#bd3786\"],[0.5555555555555556,\"#d8576b\"],[0.6666666666666666,\"#ed7953\"],[0.7777777777777778,\"#fb9f3a\"],[0.8888888888888888,\"#fdca26\"],[1.0,\"#f0f921\"]],\"diverging\":[[0,\"#8e0152\"],[0.1,\"#c51b7d\"],[0.2,\"#de77ae\"],[0.3,\"#f1b6da\"],[0.4,\"#fde0ef\"],[0.5,\"#f7f7f7\"],[0.6,\"#e6f5d0\"],[0.7,\"#b8e186\"],[0.8,\"#7fbc41\"],[0.9,\"#4d9221\"],[1,\"#276419\"]]},\"xaxis\":{\"gridcolor\":\"white\",\"linecolor\":\"white\",\"ticks\":\"\",\"title\":{\"standoff\":15},\"zerolinecolor\":\"white\",\"automargin\":true,\"zerolinewidth\":2},\"yaxis\":{\"gridcolor\":\"white\",\"linecolor\":\"white\",\"ticks\":\"\",\"title\":{\"standoff\":15},\"zerolinecolor\":\"white\",\"automargin\":true,\"zerolinewidth\":2},\"scene\":{\"xaxis\":{\"backgroundcolor\":\"#E5ECF6\",\"gridcolor\":\"white\",\"linecolor\":\"white\",\"showbackground\":true,\"ticks\":\"\",\"zerolinecolor\":\"white\",\"gridwidth\":2},\"yaxis\":{\"backgroundcolor\":\"#E5ECF6\",\"gridcolor\":\"white\",\"linecolor\":\"white\",\"showbackground\":true,\"ticks\":\"\",\"zerolinecolor\":\"white\",\"gridwidth\":2},\"zaxis\":{\"backgroundcolor\":\"#E5ECF6\",\"gridcolor\":\"white\",\"linecolor\":\"white\",\"showbackground\":true,\"ticks\":\"\",\"zerolinecolor\":\"white\",\"gridwidth\":2}},\"shapedefaults\":{\"line\":{\"color\":\"#2a3f5f\"}},\"annotationdefaults\":{\"arrowcolor\":\"#2a3f5f\",\"arrowhead\":0,\"arrowwidth\":1},\"geo\":{\"bgcolor\":\"white\",\"landcolor\":\"#E5ECF6\",\"subunitcolor\":\"white\",\"showland\":true,\"showlakes\":true,\"lakecolor\":\"white\"},\"title\":{\"x\":0.05},\"mapbox\":{\"style\":\"light\"}}},\"title\":{\"text\":\"Classes and their number in the dataset\",\"x\":0.5}},                        {\"responsive\": true}                    ).then(function(){\n",
              "                            \n",
              "var gd = document.getElementById('01e917ac-a9b6-413c-8d8e-8f0fdc7b30c5');\n",
              "var x = new MutationObserver(function (mutations, observer) {{\n",
              "        var display = window.getComputedStyle(gd).display;\n",
              "        if (!display || display === 'none') {{\n",
              "            console.log([gd, 'removed!']);\n",
              "            Plotly.purge(gd);\n",
              "            observer.disconnect();\n",
              "        }}\n",
              "}});\n",
              "\n",
              "// Listen for the removal of the full notebook cells\n",
              "var notebookContainer = gd.closest('#notebook-container');\n",
              "if (notebookContainer) {{\n",
              "    x.observe(notebookContainer, {childList: true});\n",
              "}}\n",
              "\n",
              "// Listen for the clearing of the current output cell\n",
              "var outputEl = gd.closest('.output');\n",
              "if (outputEl) {{\n",
              "    x.observe(outputEl, {childList: true});\n",
              "}}\n",
              "\n",
              "                        })                };                            </script>        </div>\n",
              "</body>\n",
              "</html>"
            ]
          },
          "metadata": {}
        }
      ]
    },
    {
      "cell_type": "code",
      "source": [
        "texts = df['Message']\n",
        "labels = df['Category']\n",
        "\n",
        "NUM_WORDS = 10000\n",
        "MAX_TEXT_LEN = 100\n",
        "\n",
        "#training untuk tokenisasi\n",
        "tokenizer = Tokenizer(num_words=NUM_WORDS)\n",
        "tokenizer.fit_on_texts(texts)\n",
        "\n",
        "# menampilkan hasil tokenisasi\n",
        "word_count = 50\n",
        "keys = list(tokenizer.word_index.keys())[:word_count]\n",
        "values = list(tokenizer.word_index.values())[:word_count]\n",
        "list(zip(keys, values))"
      ],
      "metadata": {
        "colab": {
          "base_uri": "https://localhost:8080/"
        },
        "id": "aI37Hw0lh-E8",
        "outputId": "76985215-0c35-4bbf-ebc7-e43b2ee24f79"
      },
      "execution_count": 24,
      "outputs": [
        {
          "output_type": "execute_result",
          "data": {
            "text/plain": [
              "[('i', 1),\n",
              " ('to', 2),\n",
              " ('you', 3),\n",
              " ('a', 4),\n",
              " ('the', 5),\n",
              " ('u', 6),\n",
              " ('and', 7),\n",
              " ('in', 8),\n",
              " ('is', 9),\n",
              " ('me', 10),\n",
              " ('my', 11),\n",
              " ('for', 12),\n",
              " ('your', 13),\n",
              " ('it', 14),\n",
              " ('of', 15),\n",
              " ('call', 16),\n",
              " ('have', 17),\n",
              " ('on', 18),\n",
              " ('2', 19),\n",
              " ('that', 20),\n",
              " ('now', 21),\n",
              " ('are', 22),\n",
              " ('so', 23),\n",
              " ('but', 24),\n",
              " ('not', 25),\n",
              " ('or', 26),\n",
              " ('do', 27),\n",
              " ('can', 28),\n",
              " ('at', 29),\n",
              " (\"i'm\", 30),\n",
              " ('ur', 31),\n",
              " ('get', 32),\n",
              " ('will', 33),\n",
              " ('if', 34),\n",
              " ('be', 35),\n",
              " ('with', 36),\n",
              " ('just', 37),\n",
              " ('no', 38),\n",
              " ('we', 39),\n",
              " ('this', 40),\n",
              " ('4', 41),\n",
              " ('gt', 42),\n",
              " ('lt', 43),\n",
              " ('up', 44),\n",
              " ('when', 45),\n",
              " ('ok', 46),\n",
              " ('free', 47),\n",
              " ('from', 48),\n",
              " ('go', 49),\n",
              " ('how', 50)]"
            ]
          },
          "metadata": {},
          "execution_count": 24
        }
      ]
    },
    {
      "cell_type": "code",
      "source": [
        "sequences = tokenizer.texts_to_sequences(texts)\n",
        "\n",
        "# As a result, the text under the following index was converted to a vector\n",
        "index = 6\n",
        "print(texts[index])\n",
        "print(sequences[index])\n",
        "\n",
        "X = pad_sequences(sequences, maxlen=MAX_TEXT_LEN)  # Standardization of the number of elements in a vector\n",
        "y = labels.copy()"
      ],
      "metadata": {
        "colab": {
          "base_uri": "https://localhost:8080/"
        },
        "id": "EIQDCYihi3Wd",
        "outputId": "d13c264c-8c67-4295-8f3c-b476904f0442"
      },
      "execution_count": 25,
      "outputs": [
        {
          "output_type": "stream",
          "name": "stdout",
          "text": [
            "Even my brother is not like to speak with me. They treat me like aids patent.\n",
            "[210, 11, 633, 9, 25, 55, 2, 382, 36, 10, 110, 718, 10, 55, 4429, 4430]\n"
          ]
        }
      ]
    },
    {
      "cell_type": "code",
      "source": [
        "sequences_len = []\n",
        "for sequence in sequences:\n",
        "    seq_len = len(sequence)\n",
        "    sequences_len.append(seq_len)\n",
        "\n",
        "fig = go.Figure(data=[go.Histogram(x=sequences_len, marker_color='indianred')])\n",
        "fig.update_layout(title='Histogram of the length of texts', title_x=0.5,xaxis_title=\"Text length\",\n",
        "                  yaxis_title=\"Count\")"
      ],
      "metadata": {
        "colab": {
          "base_uri": "https://localhost:8080/",
          "height": 542
        },
        "id": "cnm00J0EjEoG",
        "outputId": "54b24fd8-64ae-44b3-ed5f-224890b2d4d4"
      },
      "execution_count": 26,
      "outputs": [
        {
          "output_type": "display_data",
          "data": {
            "text/html": [
              "<html>\n",
              "<head><meta charset=\"utf-8\" /></head>\n",
              "<body>\n",
              "    <div>            <script src=\"https://cdnjs.cloudflare.com/ajax/libs/mathjax/2.7.5/MathJax.js?config=TeX-AMS-MML_SVG\"></script><script type=\"text/javascript\">if (window.MathJax && window.MathJax.Hub && window.MathJax.Hub.Config) {window.MathJax.Hub.Config({SVG: {font: \"STIX-Web\"}});}</script>                <script type=\"text/javascript\">window.PlotlyConfig = {MathJaxConfig: 'local'};</script>\n",
              "        <script charset=\"utf-8\" src=\"https://cdn.plot.ly/plotly-2.24.1.min.js\"></script>                <div id=\"873fafdf-8685-4746-aabc-76ef0d9aeac2\" class=\"plotly-graph-div\" style=\"height:525px; width:100%;\"></div>            <script type=\"text/javascript\">                                    window.PLOTLYENV=window.PLOTLYENV || {};                                    if (document.getElementById(\"873fafdf-8685-4746-aabc-76ef0d9aeac2\")) {                    Plotly.newPlot(                        \"873fafdf-8685-4746-aabc-76ef0d9aeac2\",                        [{\"marker\":{\"color\":\"indianred\"},\"x\":[20,6,31,11,13,33,16,27,26,29,21,28,30,37,8,23,5,19,13,27,8,11,11,20,11,28,5,28,15,12,26,41,6,17,30,28,9,8,4,30,17,28,29,4,14,5,8,5,14,30,12,24,16,55,22,14,29,6,4,8,23,9,6,12,24,28,23,28,15,8,8,5,10,9,5,9,14,11,8,16,4,8,10,9,3,11,26,31,9,8,10,39,26,24,20,29,6,12,37,7,11,21,16,27,36,10,17,10,14,24,6,8,6,24,27,25,32,28,12,16,20,28,10,27,13,7,4,47,5,27,7,2,6,4,27,30,8,8,9,31,20,8,5,27,10,7,10,29,17,7,6,9,15,4,27,81,5,5,33,19,27,24,14,19,31,31,10,27,13,13,11,10,20,6,20,12,14,6,29,16,25,31,6,13,5,5,26,7,25,13,19,13,38,6,22,19,7,6,14,29,8,6,18,28,3,7,13,32,5,15,8,14,6,5,5,6,9,9,8,8,35,6,31,4,26,26,13,30,5,25,8,21,8,6,9,33,10,15,8,24,28,10,7,16,32,6,17,8,6,31,24,8,34,6,37,7,18,9,7,27,15,1,18,11,25,6,7,11,29,9,24,9,29,29,9,6,1,9,7,11,10,5,27,7,1,25,13,1,35,33,27,8,13,5,5,7,31,12,35,11,13,17,31,21,5,28,11,7,14,24,10,25,28,24,35,10,5,24,8,27,4,10,13,27,30,6,5,7,16,6,20,6,13,24,43,29,10,11,4,4,8,6,31,5,7,9,5,20,5,23,15,10,15,30,28,9,39,24,27,31,18,7,4,5,16,31,12,23,19,5,6,27,8,11,37,26,5,10,25,7,27,58,12,9,10,23,6,6,7,24,9,5,16,5,28,12,17,26,43,38,19,32,9,7,9,14,14,31,9,3,25,17,8,20,5,7,7,7,22,14,31,9,26,5,22,44,6,5,7,16,33,5,15,26,4,12,17,12,6,17,11,19,8,17,4,18,19,12,13,8,4,2,10,12,21,27,10,25,28,18,24,15,13,31,6,8,26,16,8,11,8,27,9,53,29,26,11,6,6,10,15,7,17,3,11,9,11,24,7,22,11,26,29,6,6,8,3,14,11,7,5,33,5,3,8,1,26,11,32,3,26,23,8,4,5,26,5,32,16,35,21,9,6,6,6,29,13,28,9,20,7,24,9,5,3,38,33,12,17,15,12,16,25,17,11,26,4,32,7,4,22,54,10,21,30,28,10,8,8,14,33,6,7,11,27,28,22,9,30,19,6,28,8,5,4,7,14,23,10,19,28,9,10,29,15,17,16,22,9,6,8,25,25,24,5,28,6,7,13,17,8,17,13,8,8,4,6,20,18,4,14,30,31,4,26,14,27,28,4,12,19,8,11,16,13,22,14,15,23,26,25,8,2,13,11,30,5,19,10,8,11,15,27,8,7,25,16,17,23,8,20,10,23,14,6,6,7,37,9,19,9,29,4,10,7,12,10,12,7,5,5,8,18,33,30,10,8,15,14,5,22,9,7,6,34,20,5,29,35,9,16,4,24,15,16,21,6,10,16,7,10,7,4,13,22,17,17,7,10,28,26,59,40,6,24,10,10,1,24,25,32,7,7,5,8,51,13,35,9,12,5,14,8,19,28,20,7,9,27,6,31,9,12,40,8,9,9,23,25,21,9,18,9,5,7,15,5,12,21,6,20,17,28,19,32,14,24,20,4,11,24,10,18,18,12,4,6,29,27,27,5,26,18,1,15,12,14,24,24,26,7,29,7,13,14,15,8,29,17,9,8,27,17,33,27,6,6,10,6,11,11,5,21,24,5,24,8,23,7,5,24,23,6,24,31,5,6,5,5,18,14,28,30,31,43,4,10,28,76,28,31,20,14,12,28,6,42,18,16,21,28,11,12,12,22,18,28,6,28,5,8,8,5,20,18,8,28,30,25,28,31,19,15,8,17,22,28,9,28,27,29,21,57,16,6,16,4,14,15,3,9,5,10,9,25,16,26,10,32,10,29,22,9,17,9,14,9,26,17,6,29,34,6,32,12,9,15,13,27,17,9,6,12,10,13,14,9,21,8,6,25,22,21,7,16,25,5,8,6,25,26,25,14,25,24,43,12,28,29,6,9,6,5,26,9,7,27,24,4,24,1,8,27,16,16,5,19,13,51,8,15,20,6,9,5,5,28,6,43,10,8,17,12,22,12,6,10,11,27,37,12,3,30,16,25,7,8,17,31,29,8,5,25,19,9,5,9,19,31,8,22,21,9,10,12,7,23,33,9,10,7,41,26,5,6,8,10,7,9,11,6,10,3,7,26,22,28,6,22,31,10,13,6,8,24,19,3,19,21,18,25,8,11,25,6,35,5,4,5,16,32,8,32,26,27,10,6,10,14,25,3,9,27,18,25,9,17,7,5,5,12,15,8,4,26,189,36,7,5,25,10,24,15,4,37,14,4,26,31,15,21,17,19,10,14,28,7,30,28,22,6,5,12,8,15,12,10,14,12,17,28,7,29,8,6,7,34,16,24,21,11,6,4,6,32,13,8,21,5,3,25,8,33,17,18,24,18,4,10,13,6,9,4,5,31,15,18,14,26,4,9,8,6,31,24,9,11,7,8,15,33,14,34,4,7,12,33,38,7,12,8,4,5,11,9,8,3,9,15,12,11,2,14,27,33,3,8,15,10,34,28,7,5,12,10,30,25,30,9,6,6,8,12,11,25,13,15,8,15,11,25,31,4,9,8,27,14,26,8,24,7,16,11,5,7,24,26,5,9,11,19,14,11,10,9,7,10,21,13,32,11,15,13,20,17,5,12,10,10,5,18,14,35,22,10,7,22,26,8,28,8,19,26,1,12,18,6,3,8,17,15,13,9,30,5,7,7,31,31,6,15,14,16,35,8,10,6,10,10,10,12,23,9,32,11,8,10,28,31,11,7,25,20,19,8,25,31,7,25,1,6,11,10,7,19,29,7,6,25,11,21,6,6,8,8,32,30,18,10,11,7,5,22,7,33,4,9,18,5,9,31,4,6,26,9,17,5,16,30,27,66,10,13,6,42,24,20,11,20,7,6,10,19,27,27,27,4,8,24,5,31,7,29,18,34,67,23,7,27,11,25,32,6,17,2,7,14,5,12,10,29,18,18,29,8,7,5,29,7,8,5,6,25,34,27,11,17,8,18,9,14,7,6,26,6,6,9,1,25,32,11,30,22,7,13,10,4,22,16,6,16,20,4,10,29,3,6,34,20,28,2,5,12,6,4,11,29,20,26,33,14,28,10,28,24,29,30,28,8,28,30,7,11,16,21,31,16,20,7,19,30,6,6,1,25,4,30,33,6,9,4,34,25,15,17,22,12,36,13,29,29,6,24,6,7,6,10,24,34,9,33,18,22,90,6,5,7,11,28,10,7,32,8,23,3,6,7,33,4,7,10,5,11,36,6,4,31,18,9,4,24,7,40,4,30,10,29,6,17,6,11,16,10,2,8,7,15,25,4,22,22,19,13,12,9,5,31,8,5,25,8,12,5,27,29,25,11,14,41,90,12,13,11,10,19,4,70,15,32,7,25,25,4,10,23,28,8,29,23,7,9,5,28,4,26,20,5,8,21,31,7,7,1,27,6,10,8,25,6,22,9,32,24,27,7,14,32,6,26,8,17,11,15,28,9,26,31,36,30,6,33,8,31,4,7,5,8,7,25,27,7,29,17,23,33,14,7,18,12,24,5,10,14,26,6,4,27,14,19,6,24,3,5,28,14,6,24,11,9,30,23,4,2,30,9,8,6,29,21,5,5,27,9,18,20,15,12,16,12,27,1,6,15,8,5,20,17,16,12,27,14,10,11,14,24,6,13,21,26,9,16,33,25,10,32,8,14,28,5,23,8,5,11,5,39,8,7,5,11,7,6,28,15,29,8,25,33,20,7,29,6,5,17,7,11,13,6,12,8,4,26,8,37,23,13,25,20,33,7,14,29,11,7,32,8,10,9,6,30,30,27,27,5,10,13,32,9,29,6,7,11,22,34,29,8,7,33,24,8,10,11,22,5,6,8,6,10,26,11,24,8,12,19,26,5,23,12,9,8,6,8,13,36,9,18,6,26,64,15,6,28,7,13,6,5,11,5,5,4,30,40,16,6,4,6,9,18,22,27,10,17,11,12,32,20,17,10,34,27,7,9,11,10,162,8,9,18,12,31,17,7,7,16,13,21,19,29,7,21,8,27,13,4,7,21,9,14,27,24,19,8,18,12,28,6,34,9,24,11,7,5,15,4,8,31,10,11,16,4,25,7,24,17,17,4,31,12,11,14,6,40,6,9,17,18,1,13,26,6,24,29,7,8,4,5,7,14,11,26,10,28,25,25,10,27,16,14,12,10,11,7,8,12,11,14,6,14,10,18,18,4,26,6,14,11,31,14,14,15,13,25,3,5,31,11,11,5,8,21,19,6,4,16,14,33,25,29,5,5,4,10,24,24,21,9,6,6,8,26,23,9,14,7,29,15,10,11,9,16,6,89,14,69,25,20,9,34,7,14,6,8,10,16,26,17,8,14,12,21,8,7,17,14,12,6,6,7,10,5,10,25,8,7,10,24,9,10,7,12,7,7,8,20,29,30,12,7,10,8,7,11,8,20,5,28,69,10,5,7,19,26,34,8,4,33,12,11,8,30,5,7,9,7,3,15,8,11,8,26,30,74,8,9,31,28,20,6,2,10,17,25,8,15,3,18,26,6,7,35,31,8,7,32,29,10,29,21,8,11,26,9,30,35,6,1,26,14,8,22,7,9,9,19,26,77,17,10,6,6,6,10,9,7,5,33,28,29,5,33,6,6,8,15,14,8,12,6,23,121,21,30,22,9,27,35,9,6,9,6,9,28,27,7,8,12,6,5,6,9,40,8,32,1,9,23,14,24,20,8,28,17,23,10,21,18,9,23,8,6,8,8,9,11,12,13,18,29,29,21,25,4,13,27,12,11,13,8,15,13,16,27,14,15,34,26,15,21,9,8,5,20,30,28,10,6,14,28,17,25,23,11,7,4,20,13,3,15,34,30,6,26,19,23,9,5,5,32,11,8,33,7,27,17,7,33,15,11,24,3,6,6,6,26,12,5,20,9,6,25,14,6,6,11,5,7,4,18,22,25,5,24,14,11,4,17,8,30,30,6,13,29,15,8,8,14,29,13,4,30,33,14,31,29,17,6,17,5,9,27,6,7,9,1,5,18,2,4,25,28,8,13,8,5,5,7,5,12,16,14,6,20,10,14,26,27,1,11,13,6,4,10,9,24,6,13,8,55,5,9,12,28,25,12,19,31,15,9,32,23,10,98,24,15,20,28,5,21,18,23,32,98,14,26,6,4,4,27,6,4,13,12,38,7,14,20,21,7,7,6,5,5,9,34,11,13,19,3,30,82,9,21,7,6,33,23,6,13,10,18,17,25,9,18,9,5,12,11,29,11,14,34,5,18,10,115,46,6,24,23,11,16,11,17,6,14,10,35,4,24,7,5,5,15,11,5,11,18,5,7,9,9,15,2,21,17,11,8,4,17,14,4,14,7,28,6,16,8,7,39,31,23,29,7,19,9,28,16,9,19,15,24,16,5,48,12,29,24,25,12,12,6,7,6,64,40,34,7,4,1,1,32,13,4,30,34,10,11,5,4,13,11,33,4,20,4,22,34,10,33,7,16,7,17,2,19,7,29,6,10,18,5,22,11,6,5,55,17,12,16,24,12,10,5,6,8,7,27,12,15,12,22,6,4,8,11,29,31,8,6,18,6,8,11,24,26,30,7,9,7,10,8,25,11,28,7,10,9,15,6,29,29,32,9,24,12,26,28,22,13,2,10,8,1,7,19,13,31,15,11,5,6,8,33,6,7,52,9,11,11,13,28,2,28,2,5,7,20,8,21,12,34,6,29,7,11,12,8,6,18,5,7,8,26,11,25,7,4,19,10,21,31,10,12,6,19,4,8,6,5,6,1,6,8,29,36,6,8,26,6,30,25,22,9,5,28,10,24,11,13,11,24,82,6,22,12,9,28,18,1,10,13,31,6,28,20,19,12,16,12,5,15,39,34,11,11,28,26,9,28,5,6,19,34,23,10,19,12,27,2,25,11,2,6,16,14,4,8,11,7,25,28,6,10,17,7,11,6,8,22,13,5,2,33,23,32,4,6,7,6,18,12,14,9,4,26,15,4,17,8,9,20,9,13,10,34,39,7,27,7,8,29,6,4,4,27,10,5,6,22,23,6,16,18,27,10,5,4,23,16,15,8,22,27,12,9,25,7,14,17,25,13,26,6,29,6,4,8,3,27,12,13,9,10,34,27,10,12,13,27,28,19,21,8,26,18,11,29,2,32,9,31,4,5,7,18,6,24,6,5,10,9,20,2,5,17,36,10,7,32,121,30,16,7,5,12,10,20,62,16,33,29,16,12,10,28,19,16,6,29,7,27,30,30,3,5,11,43,10,22,29,5,27,9,9,5,14,5,8,6,20,5,9,14,14,13,7,5,23,11,10,26,11,28,25,7,35,21,16,1,27,22,11,6,18,12,28,16,10,9,4,10,20,9,8,4,13,7,6,5,1,25,6,6,41,33,11,8,25,18,10,9,8,22,29,6,15,70,7,7,20,7,12,8,5,23,22,12,5,20,28,28,7,30,5,7,25,16,5,28,6,10,6,59,16,4,9,7,15,6,12,23,33,30,7,7,29,14,19,21,6,31,24,24,10,7,30,13,21,8,3,9,8,23,7,7,18,6,6,25,27,16,20,5,13,30,12,10,73,20,9,9,15,7,6,11,20,8,9,5,8,7,34,16,12,5,8,18,6,10,13,14,56,9,25,11,36,23,6,31,8,17,1,22,8,7,6,32,4,15,25,47,7,12,5,29,6,5,25,5,9,9,14,9,5,8,7,10,23,9,8,25,14,29,12,7,22,4,31,9,27,9,11,29,12,8,13,27,20,9,9,6,22,4,12,11,16,7,64,30,33,32,19,14,6,6,12,8,6,6,17,5,8,8,31,15,10,31,5,10,25,11,6,29,33,5,9,26,22,10,5,4,33,6,18,28,9,10,21,25,24,7,9,7,24,12,33,1,6,8,12,10,7,16,13,30,30,11,20,27,10,6,7,7,12,24,5,28,10,7,6,20,12,31,21,28,11,13,11,4,32,9,28,24,9,15,13,12,12,20,9,11,11,6,21,20,10,18,3,7,14,34,35,29,8,3,22,8,28,8,9,18,15,25,30,8,6,7,65,9,28,28,19,9,15,24,4,3,20,18,4,9,23,10,10,13,34,11,26,7,8,7,5,5,9,8,7,11,23,12,24,29,11,16,7,6,15,28,16,9,26,4,19,8,24,11,3,26,15,10,4,82,15,17,14,8,16,24,8,27,25,16,17,15,7,25,22,19,20,27,23,31,8,8,30,10,27,51,24,29,9,15,13,35,12,23,17,24,16,13,6,6,20,6,34,35,26,5,9,9,26,9,5,8,27,25,18,9,6,8,10,9,19,7,8,19,12,7,8,17,4,5,71,6,19,12,13,6,24,9,21,15,4,22,9,3,9,4,7,9,7,14,18,23,7,12,5,0,29,13,4,6,5,22,11,13,28,2,15,5,7,6,13,8,7,2,28,3,21,6,7,12,28,6,25,8,16,4,15,25,26,23,27,8,11,9,5,6,9,9,28,28,28,13,23,30,30,6,17,5,10,33,6,28,16,21,12,17,10,5,6,16,6,28,24,24,10,13,27,11,12,2,6,24,5,37,29,34,7,29,10,33,26,41,14,17,2,10,20,27,10,8,5,31,19,6,6,31,11,36,15,11,5,3,27,29,34,12,5,4,7,5,25,1,24,7,25,35,14,24,16,18,26,23,7,12,6,7,1,23,37,30,11,8,5,7,14,6,40,60,8,8,16,16,25,3,9,12,38,6,23,30,19,6,29,4,5,5,23,28,21,9,15,8,9,8,17,5,34,29,22,17,15,5,5,7,7,30,7,9,9,27,17,12,15,28,8,59,15,21,8,5,26,7,7,28,7,14,27,8,18,20,27,3,9,8,25,31,31,17,14,26,14,9,3,4,27,11,6,18,7,9,6,6,8,14,8,6,15,7,6,27,12,8,27,23,4,12,31,14,8,32,19,37,8,7,6,20,8,15,14,7,29,7,6,6,13,38,22,7,26,7,29,32,19,21,5,29,13,12,23,11,16,10,8,11,7,5,11,8,11,8,9,7,27,26,9,8,35,22,7,11,5,7,23,10,31,5,9,8,27,4,11,8,32,20,6,8,17,8,6,4,5,12,11,19,27,14,7,29,10,14,9,5,32,24,9,9,10,8,21,8,8,8,4,20,32,17,4,6,14,31,8,8,7,7,28,8,7,8,27,5,12,54,7,7,6,8,10,54,11,5,9,3,13,11,14,10,7,15,36,25,33,7,6,7,14,8,9,23,11,30,6,23,33,8,12,25,4,6,5,20,15,16,7,15,4,25,7,31,63,13,5,36,9,5,8,19,4,4,30,15,31,26,11,9,15,8,27,33,39,12,28,7,10,13,46,15,27,14,8,8,7,7,12,8,7,17,8,6,22,11,14,48,4,25,35,14,9,31,29,11,17,24,1,11,9,9,9,5,16,20,14,15,27,17,12,7,11,31,12,4,14,7,11,15,29,28,7,20,5,25,8,18,7,23,35,21,8,8,14,11,10,14,11,13,9,14,5,9,10,47,39,12,15,19,21,6,11,11,7,4,21,12,24,6,26,3,21,6,7,12,1,9,6,13,20,24,6,9,16,6,25,15,13,3,25,9,4,21,14,41,30,19,16,26,4,8,6,23,8,5,18,13,7,4,11,6,9,18,26,8,6,17,5,22,9,11,23,6,14,16,34,10,18,21,20,12,15,6,10,6,10,6,24,10,10,6,10,25,16,39,25,25,5,5,10,19,9,28,19,14,2,13,15,14,22,6,31,11,21,30,23,8,10,12,15,5,13,17,28,7,32,15,13,25,43,12,26,6,33,21,35,25,5,1,11,12,8,20,8,27,4,7,20,6,5,7,5,9,9,8,7,14,11,15,14,28,5,16,5,11,5,25,6,14,5,6,10,25,16,6,7,26,5,7,16,32,53,6,12,32,25,29,15,8,18,6,19,26,22,15,20,12,17,7,17,20,24,20,5,8,57,5,9,30,16,28,5,24,13,27,26,37,12,28,6,16,11,7,9,10,6,30,12,27,11,19,8,24,6,7,15,22,5,12,31,44,6,18,20,23,23,6,32,14,29,10,29,4,9,8,8,32,36,28,12,13,7,5,18,30,19,26,14,33,10,12,32,27,29,34,19,6,3,25,10,26,21,16,11,10,12,29,21,7,7,23,10,6,26,20,31,24,4,15,7,14,16,7,6,9,16,9,25,6,17,7,14,6,13,17,4,29,8,5,8,23,24,33,30,30,5,15,31,18,9,26,5,6,17,17,20,5,11,6,18,6,7,11,11,10,18,54,13,6,12,23,24,7,5,15,5,19,5,18,14,31,26,6,9,19,32,7,26,1,15,5,9,17,14,9,5,36,22,20,6,28,18,25,8,33,9,5,13,25,23,30,16,17,7,7,24,29,4,22,14,8,8,7,4,28,26,33,4,24,12,6,28,32,16,6,59,5,3,13,14,29,13,23,25,35,17,16,18,3,13,8,27,10,14,15,25,63,10,17,16,5,22,38,7,6,26,15,14,5,7,9,4,9,26,31,12,5,7,8,14,24,14,8,6,7,14,5,28,29,9,3,9,28,25,10,11,31,8,29,26,7,9,33,23,7,22,19,10,37,8,13,11,14,26,2,25,24,27,4,15,27,32,6,9,8,19,7,28,12,31,27,26,6,7,5,29,16,6,13,12,14,13,5,70,11,7,10,22,4,7,12,26,19,57,15,10,12,7,33,21,15,32,40,6,24,9,11,6,15,6,8,5,9,15,13,10,9,23,14,11,23,27,7,21,7,11,11,8,32,5,6,6,14,6,28,6,77,12,6,8,67,22,10,18,28,48,49,17,19,8,16,6,35,5,39,20,6,8,6,12,6,18,9,3,2,11,6,15,27,9,4,3,21,10,9,28,30,5,11,16,22,27,1,21,26,4,4,7,4,14,13,5,34,5,5,12,26,9,12,8,11,26,18,19,21,22,8,7,13,5,34,35,11,29,7,20,41,15,31,7,7,28,8,10,28,18,28,30,8,7,18,31,25,10,14,42,9,30,25,10,30,5,11,18,5,5,30,6,15,7,31,45,11,25,7,34,19,8,20,4,8,20,27,28,7,28,15,21,25,15,29,31,19,51,8,23,30,14,13,23,7,21,8,16,8,23,27,28,16,8,18,25,19,8,5,7,4,12,6,20,20,4,19,15,6,6,5,7,27,9,6,11,24,28,9,7,18,8,8,9,11,7,13,11,12,9,1,25,6,6,6,29,31,8,25,21,27,5,11,7,14,5,23,20,11,12,3,6,5,5,8,4,6,10,29,12,13,26,25,5,33,5,8,12,9,12,5,9,11,33,13,7,3,9,10,3,10,30,22,30,30,12,13,6,2,29,5,1,19,7,5,19,6,12,15,18,19,12,12,13,7,24,18,10,19,15,9,10,6,28,12,16,28,25,3,15,5,8,11,30,7,7,33,50,6,18,12,7,11,4,16,10,16,25,20,23,31,13,30,10,10,30,30,23,27,11,21,7,4,12,17,4,15,8,21,13,6,32,11,12,30,10,13,21,17,13,17,7,28,11,25,9,7,31,11,14,4,5,22,10,12,23,29,10,10,32,48,7,7,21,6,11,24,23,40,30,15,10,10,15,7,15,17,3,6,11,8,29,0,22,10,6,14,12,12,23,6,10,26,6,27,6,6,20,14,23,14,8,7,25,6,12,14,8,16,9,17,5,6,23,3,9,12,1,27,29,4,24,17,12,9,54,6,16,31,17,7,15,5,6,17,29,19,31,15,19,7,9,24,20,7,5,25,37,62,33,16,29,5,5,21,8,11,8,10,26,12,24,7,88,36,6,3,7,6,31,17,7,32,41,25,7,32,18,9,9,33,32,7,10,9,9,5,18,34,24,30,7,5,7,16,3,9,26,19,12,17,21,17,17,22,8,20,29,9,32,31,24,20,15,17,32,8,7,16,10,36,2,7,30,15,28,26,25,30,25,9,9,26,14,11,9,11,22,21,5,5,10,4,29,7,8,15,2,19,30,20,5,29,10,13,10,4,5,5,14,9,8,27,50,18,4,6,6,15,10,27,13,12,27,18,10,27,32,6,13,3,13,19,4,12,27,23,13,22,17,9,10,13,6,16,28,6,28,21,29,13,20,9,27,18,18,6,19,31,9,9,19,6,24,34,8,27,8,25,7,10,19,10,6,10,22,19,7,14,31,4,21,10,14,25,10,17,26,20,64,39,12,3,10,18,17,5,7,4,9,14,6,20,7,14,15,29,33,6,9,26,18,98,33,9,15,27,5,8,4,27,18,8,31,8,12,5,10,7,7,14,6,31,22,19,6,13,65,8,16,21,24,8,5,17,27,19,49,18,33,28,20,8,17,16,30,18,6,22,17,37,10,5,20,13,6,14,6,6,17,7,6,26,7,23,5,15,5,21,6,9,2,6,18,12,17,24,23,33,11,6,7,11,10,5,4,1,31,30,4,14,7,8,30,28,18,22,9,28,27,8,4,13,24,9,19,6,61,18,6,7,5,29,10,8,9,8,11,9,18,11,11,24,26,8,14,25,8,6,34,28,9,5,21,26,27,8,9,10,6,3,22,12,11,23,10,8,10,23,20,15,13,5,3,7,8,6,18,24,12,5,12,67,6,33,9,16,32,13,11,34,10,20,6,13,33,23,16,6,7,12,6,6,30,7,15,24,12,5,9,26,8,24,12,7,22,10,9,5,7,17,15,22,17,13,5,33,18,6,32,21,9,29,5,5,21,31,4,8,14,6,5,34,37,5,5,5,5,10,15,7,23,8,37,26,8,6,6,7,8,27,13,7,4,21,28,11,2,8,12,7,16,25,22,5,1,25,29,10,7,13,10,19,16,27,26,25,10,27,9,10,11,40,11,22,15,31,15,8,9,14,17,32,26,5,19,9,8,5,4,14,20,8,13,8,3,11,8,29,21,28,9,12,6,8,36,5,7,19,9,15,17,2,17,23,8,16,18,7,6,11,4,20,7,10,19,6,24,20,7,6,10,11,7,6,6,6,9,8,19,21,30,14,15,22,7,10,12,5,44,6,7,8,18,19,7,4,24,27,15,29,4,8,18,12,30,26,2,5,1,14,7,23,12,14,9,4,12,7,6,27,14,33,28,6,27,6,9,6,14,31,13,34,22,15,26,9,9,30,24,7,14,8,26,27,8,11,14,5,6,4,14,7,56,30,33,27,11,7,7,7,4,25,23,23,11,9,5,13,11,6,25,5,61,11,17,36,4,33,4,8,8,30,10,8,27,8,18,9,10,17,5,20,38,13,49,4,14,7,15,18,5,14,3,29,32,8,10,26,6],\"type\":\"histogram\"}],                        {\"template\":{\"data\":{\"histogram2dcontour\":[{\"type\":\"histogram2dcontour\",\"colorbar\":{\"outlinewidth\":0,\"ticks\":\"\"},\"colorscale\":[[0.0,\"#0d0887\"],[0.1111111111111111,\"#46039f\"],[0.2222222222222222,\"#7201a8\"],[0.3333333333333333,\"#9c179e\"],[0.4444444444444444,\"#bd3786\"],[0.5555555555555556,\"#d8576b\"],[0.6666666666666666,\"#ed7953\"],[0.7777777777777778,\"#fb9f3a\"],[0.8888888888888888,\"#fdca26\"],[1.0,\"#f0f921\"]]}],\"choropleth\":[{\"type\":\"choropleth\",\"colorbar\":{\"outlinewidth\":0,\"ticks\":\"\"}}],\"histogram2d\":[{\"type\":\"histogram2d\",\"colorbar\":{\"outlinewidth\":0,\"ticks\":\"\"},\"colorscale\":[[0.0,\"#0d0887\"],[0.1111111111111111,\"#46039f\"],[0.2222222222222222,\"#7201a8\"],[0.3333333333333333,\"#9c179e\"],[0.4444444444444444,\"#bd3786\"],[0.5555555555555556,\"#d8576b\"],[0.6666666666666666,\"#ed7953\"],[0.7777777777777778,\"#fb9f3a\"],[0.8888888888888888,\"#fdca26\"],[1.0,\"#f0f921\"]]}],\"heatmap\":[{\"type\":\"heatmap\",\"colorbar\":{\"outlinewidth\":0,\"ticks\":\"\"},\"colorscale\":[[0.0,\"#0d0887\"],[0.1111111111111111,\"#46039f\"],[0.2222222222222222,\"#7201a8\"],[0.3333333333333333,\"#9c179e\"],[0.4444444444444444,\"#bd3786\"],[0.5555555555555556,\"#d8576b\"],[0.6666666666666666,\"#ed7953\"],[0.7777777777777778,\"#fb9f3a\"],[0.8888888888888888,\"#fdca26\"],[1.0,\"#f0f921\"]]}],\"heatmapgl\":[{\"type\":\"heatmapgl\",\"colorbar\":{\"outlinewidth\":0,\"ticks\":\"\"},\"colorscale\":[[0.0,\"#0d0887\"],[0.1111111111111111,\"#46039f\"],[0.2222222222222222,\"#7201a8\"],[0.3333333333333333,\"#9c179e\"],[0.4444444444444444,\"#bd3786\"],[0.5555555555555556,\"#d8576b\"],[0.6666666666666666,\"#ed7953\"],[0.7777777777777778,\"#fb9f3a\"],[0.8888888888888888,\"#fdca26\"],[1.0,\"#f0f921\"]]}],\"contourcarpet\":[{\"type\":\"contourcarpet\",\"colorbar\":{\"outlinewidth\":0,\"ticks\":\"\"}}],\"contour\":[{\"type\":\"contour\",\"colorbar\":{\"outlinewidth\":0,\"ticks\":\"\"},\"colorscale\":[[0.0,\"#0d0887\"],[0.1111111111111111,\"#46039f\"],[0.2222222222222222,\"#7201a8\"],[0.3333333333333333,\"#9c179e\"],[0.4444444444444444,\"#bd3786\"],[0.5555555555555556,\"#d8576b\"],[0.6666666666666666,\"#ed7953\"],[0.7777777777777778,\"#fb9f3a\"],[0.8888888888888888,\"#fdca26\"],[1.0,\"#f0f921\"]]}],\"surface\":[{\"type\":\"surface\",\"colorbar\":{\"outlinewidth\":0,\"ticks\":\"\"},\"colorscale\":[[0.0,\"#0d0887\"],[0.1111111111111111,\"#46039f\"],[0.2222222222222222,\"#7201a8\"],[0.3333333333333333,\"#9c179e\"],[0.4444444444444444,\"#bd3786\"],[0.5555555555555556,\"#d8576b\"],[0.6666666666666666,\"#ed7953\"],[0.7777777777777778,\"#fb9f3a\"],[0.8888888888888888,\"#fdca26\"],[1.0,\"#f0f921\"]]}],\"mesh3d\":[{\"type\":\"mesh3d\",\"colorbar\":{\"outlinewidth\":0,\"ticks\":\"\"}}],\"scatter\":[{\"fillpattern\":{\"fillmode\":\"overlay\",\"size\":10,\"solidity\":0.2},\"type\":\"scatter\"}],\"parcoords\":[{\"type\":\"parcoords\",\"line\":{\"colorbar\":{\"outlinewidth\":0,\"ticks\":\"\"}}}],\"scatterpolargl\":[{\"type\":\"scatterpolargl\",\"marker\":{\"colorbar\":{\"outlinewidth\":0,\"ticks\":\"\"}}}],\"bar\":[{\"error_x\":{\"color\":\"#2a3f5f\"},\"error_y\":{\"color\":\"#2a3f5f\"},\"marker\":{\"line\":{\"color\":\"#E5ECF6\",\"width\":0.5},\"pattern\":{\"fillmode\":\"overlay\",\"size\":10,\"solidity\":0.2}},\"type\":\"bar\"}],\"scattergeo\":[{\"type\":\"scattergeo\",\"marker\":{\"colorbar\":{\"outlinewidth\":0,\"ticks\":\"\"}}}],\"scatterpolar\":[{\"type\":\"scatterpolar\",\"marker\":{\"colorbar\":{\"outlinewidth\":0,\"ticks\":\"\"}}}],\"histogram\":[{\"marker\":{\"pattern\":{\"fillmode\":\"overlay\",\"size\":10,\"solidity\":0.2}},\"type\":\"histogram\"}],\"scattergl\":[{\"type\":\"scattergl\",\"marker\":{\"colorbar\":{\"outlinewidth\":0,\"ticks\":\"\"}}}],\"scatter3d\":[{\"type\":\"scatter3d\",\"line\":{\"colorbar\":{\"outlinewidth\":0,\"ticks\":\"\"}},\"marker\":{\"colorbar\":{\"outlinewidth\":0,\"ticks\":\"\"}}}],\"scattermapbox\":[{\"type\":\"scattermapbox\",\"marker\":{\"colorbar\":{\"outlinewidth\":0,\"ticks\":\"\"}}}],\"scatterternary\":[{\"type\":\"scatterternary\",\"marker\":{\"colorbar\":{\"outlinewidth\":0,\"ticks\":\"\"}}}],\"scattercarpet\":[{\"type\":\"scattercarpet\",\"marker\":{\"colorbar\":{\"outlinewidth\":0,\"ticks\":\"\"}}}],\"carpet\":[{\"aaxis\":{\"endlinecolor\":\"#2a3f5f\",\"gridcolor\":\"white\",\"linecolor\":\"white\",\"minorgridcolor\":\"white\",\"startlinecolor\":\"#2a3f5f\"},\"baxis\":{\"endlinecolor\":\"#2a3f5f\",\"gridcolor\":\"white\",\"linecolor\":\"white\",\"minorgridcolor\":\"white\",\"startlinecolor\":\"#2a3f5f\"},\"type\":\"carpet\"}],\"table\":[{\"cells\":{\"fill\":{\"color\":\"#EBF0F8\"},\"line\":{\"color\":\"white\"}},\"header\":{\"fill\":{\"color\":\"#C8D4E3\"},\"line\":{\"color\":\"white\"}},\"type\":\"table\"}],\"barpolar\":[{\"marker\":{\"line\":{\"color\":\"#E5ECF6\",\"width\":0.5},\"pattern\":{\"fillmode\":\"overlay\",\"size\":10,\"solidity\":0.2}},\"type\":\"barpolar\"}],\"pie\":[{\"automargin\":true,\"type\":\"pie\"}]},\"layout\":{\"autotypenumbers\":\"strict\",\"colorway\":[\"#636efa\",\"#EF553B\",\"#00cc96\",\"#ab63fa\",\"#FFA15A\",\"#19d3f3\",\"#FF6692\",\"#B6E880\",\"#FF97FF\",\"#FECB52\"],\"font\":{\"color\":\"#2a3f5f\"},\"hovermode\":\"closest\",\"hoverlabel\":{\"align\":\"left\"},\"paper_bgcolor\":\"white\",\"plot_bgcolor\":\"#E5ECF6\",\"polar\":{\"bgcolor\":\"#E5ECF6\",\"angularaxis\":{\"gridcolor\":\"white\",\"linecolor\":\"white\",\"ticks\":\"\"},\"radialaxis\":{\"gridcolor\":\"white\",\"linecolor\":\"white\",\"ticks\":\"\"}},\"ternary\":{\"bgcolor\":\"#E5ECF6\",\"aaxis\":{\"gridcolor\":\"white\",\"linecolor\":\"white\",\"ticks\":\"\"},\"baxis\":{\"gridcolor\":\"white\",\"linecolor\":\"white\",\"ticks\":\"\"},\"caxis\":{\"gridcolor\":\"white\",\"linecolor\":\"white\",\"ticks\":\"\"}},\"coloraxis\":{\"colorbar\":{\"outlinewidth\":0,\"ticks\":\"\"}},\"colorscale\":{\"sequential\":[[0.0,\"#0d0887\"],[0.1111111111111111,\"#46039f\"],[0.2222222222222222,\"#7201a8\"],[0.3333333333333333,\"#9c179e\"],[0.4444444444444444,\"#bd3786\"],[0.5555555555555556,\"#d8576b\"],[0.6666666666666666,\"#ed7953\"],[0.7777777777777778,\"#fb9f3a\"],[0.8888888888888888,\"#fdca26\"],[1.0,\"#f0f921\"]],\"sequentialminus\":[[0.0,\"#0d0887\"],[0.1111111111111111,\"#46039f\"],[0.2222222222222222,\"#7201a8\"],[0.3333333333333333,\"#9c179e\"],[0.4444444444444444,\"#bd3786\"],[0.5555555555555556,\"#d8576b\"],[0.6666666666666666,\"#ed7953\"],[0.7777777777777778,\"#fb9f3a\"],[0.8888888888888888,\"#fdca26\"],[1.0,\"#f0f921\"]],\"diverging\":[[0,\"#8e0152\"],[0.1,\"#c51b7d\"],[0.2,\"#de77ae\"],[0.3,\"#f1b6da\"],[0.4,\"#fde0ef\"],[0.5,\"#f7f7f7\"],[0.6,\"#e6f5d0\"],[0.7,\"#b8e186\"],[0.8,\"#7fbc41\"],[0.9,\"#4d9221\"],[1,\"#276419\"]]},\"xaxis\":{\"gridcolor\":\"white\",\"linecolor\":\"white\",\"ticks\":\"\",\"title\":{\"standoff\":15},\"zerolinecolor\":\"white\",\"automargin\":true,\"zerolinewidth\":2},\"yaxis\":{\"gridcolor\":\"white\",\"linecolor\":\"white\",\"ticks\":\"\",\"title\":{\"standoff\":15},\"zerolinecolor\":\"white\",\"automargin\":true,\"zerolinewidth\":2},\"scene\":{\"xaxis\":{\"backgroundcolor\":\"#E5ECF6\",\"gridcolor\":\"white\",\"linecolor\":\"white\",\"showbackground\":true,\"ticks\":\"\",\"zerolinecolor\":\"white\",\"gridwidth\":2},\"yaxis\":{\"backgroundcolor\":\"#E5ECF6\",\"gridcolor\":\"white\",\"linecolor\":\"white\",\"showbackground\":true,\"ticks\":\"\",\"zerolinecolor\":\"white\",\"gridwidth\":2},\"zaxis\":{\"backgroundcolor\":\"#E5ECF6\",\"gridcolor\":\"white\",\"linecolor\":\"white\",\"showbackground\":true,\"ticks\":\"\",\"zerolinecolor\":\"white\",\"gridwidth\":2}},\"shapedefaults\":{\"line\":{\"color\":\"#2a3f5f\"}},\"annotationdefaults\":{\"arrowcolor\":\"#2a3f5f\",\"arrowhead\":0,\"arrowwidth\":1},\"geo\":{\"bgcolor\":\"white\",\"landcolor\":\"#E5ECF6\",\"subunitcolor\":\"white\",\"showland\":true,\"showlakes\":true,\"lakecolor\":\"white\"},\"title\":{\"x\":0.05},\"mapbox\":{\"style\":\"light\"}}},\"title\":{\"text\":\"Histogram of the length of texts\",\"x\":0.5},\"xaxis\":{\"title\":{\"text\":\"Text length\"}},\"yaxis\":{\"title\":{\"text\":\"Count\"}}},                        {\"responsive\": true}                    ).then(function(){\n",
              "                            \n",
              "var gd = document.getElementById('873fafdf-8685-4746-aabc-76ef0d9aeac2');\n",
              "var x = new MutationObserver(function (mutations, observer) {{\n",
              "        var display = window.getComputedStyle(gd).display;\n",
              "        if (!display || display === 'none') {{\n",
              "            console.log([gd, 'removed!']);\n",
              "            Plotly.purge(gd);\n",
              "            observer.disconnect();\n",
              "        }}\n",
              "}});\n",
              "\n",
              "// Listen for the removal of the full notebook cells\n",
              "var notebookContainer = gd.closest('#notebook-container');\n",
              "if (notebookContainer) {{\n",
              "    x.observe(notebookContainer, {childList: true});\n",
              "}}\n",
              "\n",
              "// Listen for the clearing of the current output cell\n",
              "var outputEl = gd.closest('.output');\n",
              "if (outputEl) {{\n",
              "    x.observe(outputEl, {childList: true});\n",
              "}}\n",
              "\n",
              "                        })                };                            </script>        </div>\n",
              "</body>\n",
              "</html>"
            ]
          },
          "metadata": {}
        }
      ]
    },
    {
      "cell_type": "code",
      "source": [
        "# Separation of data into training and test\n",
        "X_train, X_test, y_train, y_test = train_test_split(X, y, test_size=0.2, shuffle=True, random_state=42)\n",
        "print(f'Training sample size: {len(X_train)}')\n",
        "print(f'Test sample size: {len(X_test)}')"
      ],
      "metadata": {
        "colab": {
          "base_uri": "https://localhost:8080/"
        },
        "id": "99hI0qrQjKDY",
        "outputId": "860e40d7-210a-4d45-eff0-f53617176394"
      },
      "execution_count": 27,
      "outputs": [
        {
          "output_type": "stream",
          "name": "stdout",
          "text": [
            "Training sample size: 4457\n",
            "Test sample size: 1115\n"
          ]
        }
      ]
    },
    {
      "cell_type": "code",
      "source": [
        "#pembuatan dan pelatihan reccurent model (LSTM)\n",
        "model = Sequential()\n",
        "model.add(Embedding(NUM_WORDS, 64, input_length=MAX_TEXT_LEN))\n",
        "model.add(LSTM(3, return_sequences=True))\n",
        "model.add(LSTM(5, return_sequences=True))\n",
        "model.add(BatchNormalization())\n",
        "model.add(LSTM(12))\n",
        "model.add(Dense(1, activation='sigmoid'))"
      ],
      "metadata": {
        "colab": {
          "base_uri": "https://localhost:8080/"
        },
        "id": "nT50_9c4jPFe",
        "outputId": "3884d9f5-b717-45f4-dc77-7ad0ebafc103"
      },
      "execution_count": 28,
      "outputs": [
        {
          "output_type": "stream",
          "name": "stderr",
          "text": [
            "/usr/local/lib/python3.10/dist-packages/keras/src/layers/core/embedding.py:90: UserWarning:\n",
            "\n",
            "Argument `input_length` is deprecated. Just remove it.\n",
            "\n"
          ]
        }
      ]
    },
    {
      "cell_type": "code",
      "source": [
        "callbacks = [\n",
        "    EarlyStopping(monitor='loss', min_delta=0.01, patience=10, verbose=1),\n",
        "    ReduceLROnPlateau(monitor='loss', factor=0.1, min_delta=0.01, min_lr=1e-10, patience=4, verbose=1, mode='auto')\n",
        "]\n",
        "\n",
        "model.compile(metrics=['accuracy'], loss='binary_crossentropy', optimizer='Adam')\n",
        "\n",
        "history = model.fit(X_train, y_train, batch_size=50, epochs=10, validation_split=0.2,  callbacks=callbacks)"
      ],
      "metadata": {
        "colab": {
          "base_uri": "https://localhost:8080/"
        },
        "id": "YT0S7pktjoEd",
        "outputId": "11995be5-2228-4f79-90e9-a428d0805d02"
      },
      "execution_count": 29,
      "outputs": [
        {
          "output_type": "stream",
          "name": "stdout",
          "text": [
            "Epoch 1/10\n",
            "\u001b[1m72/72\u001b[0m \u001b[32m━━━━━━━━━━━━━━━━━━━━\u001b[0m\u001b[37m\u001b[0m \u001b[1m16s\u001b[0m 136ms/step - accuracy: 0.8495 - loss: 0.4591 - val_accuracy: 0.8576 - val_loss: 0.5375 - learning_rate: 0.0010\n",
            "Epoch 2/10\n",
            "\u001b[1m72/72\u001b[0m \u001b[32m━━━━━━━━━━━━━━━━━━━━\u001b[0m\u001b[37m\u001b[0m \u001b[1m9s\u001b[0m 123ms/step - accuracy: 0.9765 - loss: 0.1650 - val_accuracy: 0.8643 - val_loss: 0.3423 - learning_rate: 0.0010\n",
            "Epoch 3/10\n",
            "\u001b[1m72/72\u001b[0m \u001b[32m━━━━━━━━━━━━━━━━━━━━\u001b[0m\u001b[37m\u001b[0m \u001b[1m9s\u001b[0m 105ms/step - accuracy: 0.9945 - loss: 0.0697 - val_accuracy: 0.9652 - val_loss: 0.2219 - learning_rate: 0.0010\n",
            "Epoch 4/10\n",
            "\u001b[1m72/72\u001b[0m \u001b[32m━━━━━━━━━━━━━━━━━━━━\u001b[0m\u001b[37m\u001b[0m \u001b[1m11s\u001b[0m 108ms/step - accuracy: 0.9977 - loss: 0.0404 - val_accuracy: 0.9843 - val_loss: 0.1498 - learning_rate: 0.0010\n",
            "Epoch 5/10\n",
            "\u001b[1m72/72\u001b[0m \u001b[32m━━━━━━━━━━━━━━━━━━━━\u001b[0m\u001b[37m\u001b[0m \u001b[1m11s\u001b[0m 122ms/step - accuracy: 0.9998 - loss: 0.0223 - val_accuracy: 0.9843 - val_loss: 0.0945 - learning_rate: 0.0010\n",
            "Epoch 6/10\n",
            "\u001b[1m72/72\u001b[0m \u001b[32m━━━━━━━━━━━━━━━━━━━━\u001b[0m\u001b[37m\u001b[0m \u001b[1m9s\u001b[0m 124ms/step - accuracy: 1.0000 - loss: 0.0146 - val_accuracy: 0.9821 - val_loss: 0.0763 - learning_rate: 0.0010\n",
            "Epoch 7/10\n",
            "\u001b[1m72/72\u001b[0m \u001b[32m━━━━━━━━━━━━━━━━━━━━\u001b[0m\u001b[37m\u001b[0m \u001b[1m9s\u001b[0m 103ms/step - accuracy: 0.9999 - loss: 0.0102 - val_accuracy: 0.9809 - val_loss: 0.0751 - learning_rate: 0.0010\n",
            "Epoch 8/10\n",
            "\u001b[1m72/72\u001b[0m \u001b[32m━━━━━━━━━━━━━━━━━━━━\u001b[0m\u001b[37m\u001b[0m \u001b[1m13s\u001b[0m 135ms/step - accuracy: 0.9999 - loss: 0.0078 - val_accuracy: 0.9787 - val_loss: 0.0797 - learning_rate: 0.0010\n",
            "Epoch 9/10\n",
            "\u001b[1m72/72\u001b[0m \u001b[32m━━━━━━━━━━━━━━━━━━━━\u001b[0m\u001b[37m\u001b[0m \u001b[1m9s\u001b[0m 122ms/step - accuracy: 0.9999 - loss: 0.0064 - val_accuracy: 0.9809 - val_loss: 0.0825 - learning_rate: 0.0010\n",
            "Epoch 10/10\n",
            "\u001b[1m72/72\u001b[0m \u001b[32m━━━━━━━━━━━━━━━━━━━━\u001b[0m\u001b[37m\u001b[0m \u001b[1m11s\u001b[0m 126ms/step - accuracy: 1.0000 - loss: 0.0056 - val_accuracy: 0.9832 - val_loss: 0.0808 - learning_rate: 0.0010\n"
          ]
        }
      ]
    },
    {
      "cell_type": "code",
      "source": [
        "plt.figure(figsize=(24, 8))\n",
        "plt.title('Visualization of the LSTM learning process', fontsize=14)\n",
        "plt.plot(history.history['accuracy'], label='The fraction of correct answers on the training set')\n",
        "plt.plot(history.history['val_accuracy'], label='The fraction of correct answers of the validation set')\n",
        "plt.xlabel('Epochs', fontsize=14)\n",
        "plt.ylabel('The fraction of correct answers', fontsize=14)\n",
        "plt.xticks(fontsize=14)\n",
        "plt.yticks(fontsize=14)\n",
        "plt.grid()\n",
        "plt.legend(fontsize=14)\n",
        "plt.show()\n"
      ],
      "metadata": {
        "colab": {
          "base_uri": "https://localhost:8080/",
          "height": 359
        },
        "id": "cVNBwjC0ly5h",
        "outputId": "61c0d54e-cbbb-424e-bada-f1556dde5780"
      },
      "execution_count": 31,
      "outputs": [
        {
          "output_type": "display_data",
          "data": {
            "text/plain": [
              "<Figure size 2400x800 with 1 Axes>"
            ],
            "image/png": "[encoded data removed]"
          },
          "metadata": {}
        }
      ]
    },
    {
      "cell_type": "code",
      "source": [
        "print(f'Metric on test: {model.evaluate(X_test, y_test)}')\n",
        "print(f'Metric on train: {model.evaluate(X_train, y_train)}')"
      ],
      "metadata": {
        "colab": {
          "base_uri": "https://localhost:8080/"
        },
        "id": "vjRRdg3RmbX_",
        "outputId": "28f6aa15-8dfe-44aa-8091-d10ef059121e"
      },
      "execution_count": 32,
      "outputs": [
        {
          "output_type": "stream",
          "name": "stdout",
          "text": [
            "\u001b[1m35/35\u001b[0m \u001b[32m━━━━━━━━━━━━━━━━━━━━\u001b[0m\u001b[37m\u001b[0m \u001b[1m1s\u001b[0m 21ms/step - accuracy: 0.9868 - loss: 0.0654\n",
            "Metric on test: [0.05931973457336426, 0.9865471124649048]\n",
            "\u001b[1m140/140\u001b[0m \u001b[32m━━━━━━━━━━━━━━━━━━━━\u001b[0m\u001b[37m\u001b[0m \u001b[1m4s\u001b[0m 26ms/step - accuracy: 0.9994 - loss: 0.0068\n",
            "Metric on train: [0.02029775083065033, 0.9964101314544678]\n"
          ]
        }
      ]
    },
    {
      "cell_type": "code",
      "source": [
        "model.summary()"
      ],
      "metadata": {
        "colab": {
          "base_uri": "https://localhost:8080/",
          "height": 374
        },
        "id": "ncICdD5Bmpz7",
        "outputId": "52fdfb3c-987e-4edb-ec72-d41b1b5d76fe"
      },
      "execution_count": 33,
      "outputs": [
        {
          "output_type": "display_data",
          "data": {
            "text/plain": [
              "\u001b[1mModel: \"sequential_2\"\u001b[0m\n"
            ],
            "text/html": [
              "<pre style=\"white-space:pre;overflow-x:auto;line-height:normal;font-family:Menlo,'DejaVu Sans Mono',consolas,'Courier New',monospace\"><span style=\"font-weight: bold\">Model: \"sequential_2\"</span>\n",
              "</pre>\n"
            ]
          },
          "metadata": {}
        },
        {
          "output_type": "display_data",
          "data": {
            "text/plain": [
              "┏━━━━━━━━━━━━━━━━━━━━━━━━━━━━━━━━━━━━━━┳━━━━━━━━━━━━━━━━━━━━━━━━━━━━━┳━━━━━━━━━━━━━━━━━┓\n",
              "┃\u001b[1m \u001b[0m\u001b[1mLayer (type)                        \u001b[0m\u001b[1m \u001b[0m┃\u001b[1m \u001b[0m\u001b[1mOutput Shape               \u001b[0m\u001b[1m \u001b[0m┃\u001b[1m \u001b[0m\u001b[1m        Param #\u001b[0m\u001b[1m \u001b[0m┃\n",
              "┡━━━━━━━━━━━━━━━━━━━━━━━━━━━━━━━━━━━━━━╇━━━━━━━━━━━━━━━━━━━━━━━━━━━━━╇━━━━━━━━━━━━━━━━━┩\n",
              "│ embedding_2 (\u001b[38;5;33mEmbedding\u001b[0m)              │ (\u001b[38;5;45mNone\u001b[0m, \u001b[38;5;34m100\u001b[0m, \u001b[38;5;34m64\u001b[0m)             │         \u001b[38;5;34m640,000\u001b[0m │\n",
              "├──────────────────────────────────────┼─────────────────────────────┼─────────────────┤\n",
              "│ lstm_6 (\u001b[38;5;33mLSTM\u001b[0m)                        │ (\u001b[38;5;45mNone\u001b[0m, \u001b[38;5;34m100\u001b[0m, \u001b[38;5;34m3\u001b[0m)              │             \u001b[38;5;34m816\u001b[0m │\n",
              "├──────────────────────────────────────┼─────────────────────────────┼─────────────────┤\n",
              "│ lstm_7 (\u001b[38;5;33mLSTM\u001b[0m)                        │ (\u001b[38;5;45mNone\u001b[0m, \u001b[38;5;34m100\u001b[0m, \u001b[38;5;34m5\u001b[0m)              │             \u001b[38;5;34m180\u001b[0m │\n",
              "├──────────────────────────────────────┼─────────────────────────────┼─────────────────┤\n",
              "│ batch_normalization_2                │ (\u001b[38;5;45mNone\u001b[0m, \u001b[38;5;34m100\u001b[0m, \u001b[38;5;34m5\u001b[0m)              │              \u001b[38;5;34m20\u001b[0m │\n",
              "│ (\u001b[38;5;33mBatchNormalization\u001b[0m)                 │                             │                 │\n",
              "├──────────────────────────────────────┼─────────────────────────────┼─────────────────┤\n",
              "│ lstm_8 (\u001b[38;5;33mLSTM\u001b[0m)                        │ (\u001b[38;5;45mNone\u001b[0m, \u001b[38;5;34m12\u001b[0m)                  │             \u001b[38;5;34m864\u001b[0m │\n",
              "├──────────────────────────────────────┼─────────────────────────────┼─────────────────┤\n",
              "│ dense_2 (\u001b[38;5;33mDense\u001b[0m)                      │ (\u001b[38;5;45mNone\u001b[0m, \u001b[38;5;34m1\u001b[0m)                   │              \u001b[38;5;34m13\u001b[0m │\n",
              "└──────────────────────────────────────┴─────────────────────────────┴─────────────────┘\n"
            ],
            "text/html": [
              "<pre style=\"white-space:pre;overflow-x:auto;line-height:normal;font-family:Menlo,'DejaVu Sans Mono',consolas,'Courier New',monospace\">┏━━━━━━━━━━━━━━━━━━━━━━━━━━━━━━━━━━━━━━┳━━━━━━━━━━━━━━━━━━━━━━━━━━━━━┳━━━━━━━━━━━━━━━━━┓\n",
              "┃<span style=\"font-weight: bold\"> Layer (type)                         </span>┃<span style=\"font-weight: bold\"> Output Shape                </span>┃<span style=\"font-weight: bold\">         Param # </span>┃\n",
              "┡━━━━━━━━━━━━━━━━━━━━━━━━━━━━━━━━━━━━━━╇━━━━━━━━━━━━━━━━━━━━━━━━━━━━━╇━━━━━━━━━━━━━━━━━┩\n",
              "│ embedding_2 (<span style=\"color: #0087ff; text-decoration-color: #0087ff\">Embedding</span>)              │ (<span style=\"color: #00d7ff; text-decoration-color: #00d7ff\">None</span>, <span style=\"color: #00af00; text-decoration-color: #00af00\">100</span>, <span style=\"color: #00af00; text-decoration-color: #00af00\">64</span>)             │         <span style=\"color: #00af00; text-decoration-color: #00af00\">640,000</span> │\n",
              "├──────────────────────────────────────┼─────────────────────────────┼─────────────────┤\n",
              "│ lstm_6 (<span style=\"color: #0087ff; text-decoration-color: #0087ff\">LSTM</span>)                        │ (<span style=\"color: #00d7ff; text-decoration-color: #00d7ff\">None</span>, <span style=\"color: #00af00; text-decoration-color: #00af00\">100</span>, <span style=\"color: #00af00; text-decoration-color: #00af00\">3</span>)              │             <span style=\"color: #00af00; text-decoration-color: #00af00\">816</span> │\n",
              "├──────────────────────────────────────┼─────────────────────────────┼─────────────────┤\n",
              "│ lstm_7 (<span style=\"color: #0087ff; text-decoration-color: #0087ff\">LSTM</span>)                        │ (<span style=\"color: #00d7ff; text-decoration-color: #00d7ff\">None</span>, <span style=\"color: #00af00; text-decoration-color: #00af00\">100</span>, <span style=\"color: #00af00; text-decoration-color: #00af00\">5</span>)              │             <span style=\"color: #00af00; text-decoration-color: #00af00\">180</span> │\n",
              "├──────────────────────────────────────┼─────────────────────────────┼─────────────────┤\n",
              "│ batch_normalization_2                │ (<span style=\"color: #00d7ff; text-decoration-color: #00d7ff\">None</span>, <span style=\"color: #00af00; text-decoration-color: #00af00\">100</span>, <span style=\"color: #00af00; text-decoration-color: #00af00\">5</span>)              │              <span style=\"color: #00af00; text-decoration-color: #00af00\">20</span> │\n",
              "│ (<span style=\"color: #0087ff; text-decoration-color: #0087ff\">BatchNormalization</span>)                 │                             │                 │\n",
              "├──────────────────────────────────────┼─────────────────────────────┼─────────────────┤\n",
              "│ lstm_8 (<span style=\"color: #0087ff; text-decoration-color: #0087ff\">LSTM</span>)                        │ (<span style=\"color: #00d7ff; text-decoration-color: #00d7ff\">None</span>, <span style=\"color: #00af00; text-decoration-color: #00af00\">12</span>)                  │             <span style=\"color: #00af00; text-decoration-color: #00af00\">864</span> │\n",
              "├──────────────────────────────────────┼─────────────────────────────┼─────────────────┤\n",
              "│ dense_2 (<span style=\"color: #0087ff; text-decoration-color: #0087ff\">Dense</span>)                      │ (<span style=\"color: #00d7ff; text-decoration-color: #00d7ff\">None</span>, <span style=\"color: #00af00; text-decoration-color: #00af00\">1</span>)                   │              <span style=\"color: #00af00; text-decoration-color: #00af00\">13</span> │\n",
              "└──────────────────────────────────────┴─────────────────────────────┴─────────────────┘\n",
              "</pre>\n"
            ]
          },
          "metadata": {}
        },
        {
          "output_type": "display_data",
          "data": {
            "text/plain": [
              "\u001b[1m Total params: \u001b[0m\u001b[38;5;34m1,925,661\u001b[0m (7.35 MB)\n"
            ],
            "text/html": [
              "<pre style=\"white-space:pre;overflow-x:auto;line-height:normal;font-family:Menlo,'DejaVu Sans Mono',consolas,'Courier New',monospace\"><span style=\"font-weight: bold\"> Total params: </span><span style=\"color: #00af00; text-decoration-color: #00af00\">1,925,661</span> (7.35 MB)\n",
              "</pre>\n"
            ]
          },
          "metadata": {}
        },
        {
          "output_type": "display_data",
          "data": {
            "text/plain": [
              "\u001b[1m Trainable params: \u001b[0m\u001b[38;5;34m641,883\u001b[0m (2.45 MB)\n"
            ],
            "text/html": [
              "<pre style=\"white-space:pre;overflow-x:auto;line-height:normal;font-family:Menlo,'DejaVu Sans Mono',consolas,'Courier New',monospace\"><span style=\"font-weight: bold\"> Trainable params: </span><span style=\"color: #00af00; text-decoration-color: #00af00\">641,883</span> (2.45 MB)\n",
              "</pre>\n"
            ]
          },
          "metadata": {}
        },
        {
          "output_type": "display_data",
          "data": {
            "text/plain": [
              "\u001b[1m Non-trainable params: \u001b[0m\u001b[38;5;34m10\u001b[0m (40.00 B)\n"
            ],
            "text/html": [
              "<pre style=\"white-space:pre;overflow-x:auto;line-height:normal;font-family:Menlo,'DejaVu Sans Mono',consolas,'Courier New',monospace\"><span style=\"font-weight: bold\"> Non-trainable params: </span><span style=\"color: #00af00; text-decoration-color: #00af00\">10</span> (40.00 B)\n",
              "</pre>\n"
            ]
          },
          "metadata": {}
        },
        {
          "output_type": "display_data",
          "data": {
            "text/plain": [
              "\u001b[1m Optimizer params: \u001b[0m\u001b[38;5;34m1,283,768\u001b[0m (4.90 MB)\n"
            ],
            "text/html": [
              "<pre style=\"white-space:pre;overflow-x:auto;line-height:normal;font-family:Menlo,'DejaVu Sans Mono',consolas,'Courier New',monospace\"><span style=\"font-weight: bold\"> Optimizer params: </span><span style=\"color: #00af00; text-decoration-color: #00af00\">1,283,768</span> (4.90 MB)\n",
              "</pre>\n"
            ]
          },
          "metadata": {}
        }
      ]
    },
    {
      "cell_type": "code",
      "source": [
        "def ml_pipeline(text: str) -> str:\n",
        "    \"\"\"LSTM model prediction function for this sample\"\"\"\n",
        "    try:\n",
        "        sequence = tokenizer.texts_to_sequences([text])\n",
        "        sequence = pad_sequences(sequence, maxlen=MAX_TEXT_LEN)\n",
        "        if sequence.max() == 0:\n",
        "            return 'Enter the words in English'\n",
        "        else:\n",
        "            predict = model.predict(sequence, verbose=0)\n",
        "            if predict > 0.5:\n",
        "                return 'The text is spam'\n",
        "            else:\n",
        "                return 'The text is not spam'\n",
        "    except AttributeError:\n",
        "        return 'Enter the text'"
      ],
      "metadata": {
        "id": "Be_NJ_dcm4CE"
      },
      "execution_count": 34,
      "outputs": []
    },
    {
      "cell_type": "code",
      "source": [
        "#percobaan input pesan\n",
        "ml_pipeline('I love Science!!!')"
      ],
      "metadata": {
        "colab": {
          "base_uri": "https://localhost:8080/",
          "height": 35
        },
        "id": "_Bi6gPDUnAj4",
        "outputId": "fe6c34b5-a095-4b89-f1d7-8620a5f361fe"
      },
      "execution_count": 35,
      "outputs": [
        {
          "output_type": "execute_result",
          "data": {
            "text/plain": [
              "'The text is not spam'"
            ],
            "application/vnd.google.colaboratory.intrinsic+json": {
              "type": "string"
            }
          },
          "metadata": {},
          "execution_count": 35
        }
      ]
    }
  ]
}